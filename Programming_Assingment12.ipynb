{
 "cells": [
  {
   "cell_type": "markdown",
   "id": "9648ad6a",
   "metadata": {},
   "source": [
    "# 1) Write a Python program to Extract Unique values dictionary values?"
   ]
  },
  {
   "cell_type": "code",
   "execution_count": 44,
   "id": "a7ddb62a",
   "metadata": {},
   "outputs": [
    {
     "name": "stdout",
     "output_type": "stream",
     "text": [
      "{1, 2, 3, 4, 17}\n"
     ]
    }
   ],
   "source": [
    "def uniquevalues(dictvalues):\n",
    "    emptyset=set()\n",
    "    emptytuple=()\n",
    "    newtuple=()\n",
    "    list=[]\n",
    "    for i in dictvalues.values():\n",
    "        for j in i:\n",
    "            emptytuple=emptytuple+(j,)\n",
    "    for i in emptytuple:\n",
    "        emptyset.add(i)\n",
    "    print (emptyset)  \n",
    "                \n",
    "      \n",
    "dictvalues={\"key1\":[1,2,3], \"key2\":[4,1,2], \"key3\":[17,3,4]}\n",
    "uniquevalues(dictvalues)"
   ]
  },
  {
   "cell_type": "code",
   "execution_count": 2,
   "id": "ef07f145",
   "metadata": {},
   "outputs": [],
   "source": [
    "def uniquevalues(dictvalues):\n",
    "    emptyset=set()\n",
    "    emptytuple=()\n",
    "    newtuple=()\n",
    "    list=[]\n",
    "    for i in dictvalues.values():\n",
    "        for j in i:\n",
    "            emptytuple=emptytuple+(j,)\n",
    "    for i in emptytuple:\n",
    "        emptyset.add(i)\n",
    "    print (emptyset)  \n",
    "                \n",
    "      \n",
    "dictvalues={\"key1\":[1,2,3], \"key2\":[4,1,2], \"key3\":[17,3,4]}\n",
    "uniquevalues(dictvalues)"
   ]
  },
  {
   "cell_type": "markdown",
   "id": "ce6cf7c7",
   "metadata": {},
   "source": [
    "# 2) Write a Python program to find the sum of all items in a dictionary?"
   ]
  },
  {
   "cell_type": "code",
   "execution_count": 48,
   "id": "230ea047",
   "metadata": {},
   "outputs": [
    {
     "data": {
      "text/plain": [
       "37"
      ]
     },
     "execution_count": 48,
     "metadata": {},
     "output_type": "execute_result"
    }
   ],
   "source": [
    "def sumofall(dictval):\n",
    "    sumof=0\n",
    "    for i in dictval.values():\n",
    "        for j in i:\n",
    "            sumof=sumof+j\n",
    "    return sumof\n",
    "            \n",
    "\n",
    "dictval={\"key1\":[1,2,3], \"key2\":[4,1,2], \"key3\":[17,3,4]}\n",
    "sumofall(dictval)"
   ]
  },
  {
   "cell_type": "markdown",
   "id": "4887ac97",
   "metadata": {},
   "source": [
    "# 3) Write a Python program to Merging two Dictionaries?"
   ]
  },
  {
   "cell_type": "code",
   "execution_count": 53,
   "id": "9b64eab9",
   "metadata": {},
   "outputs": [
    {
     "data": {
      "text/plain": [
       "{'key1': [1, 2, 3],\n",
       " 'key2': [4, 1, 2],\n",
       " 'key3': [17, 3, 4],\n",
       " 'keyy1': [1, 2, 3],\n",
       " 'keyy2': [4, 1, 2],\n",
       " 'keyy3': [17, 3, 4]}"
      ]
     },
     "execution_count": 53,
     "metadata": {},
     "output_type": "execute_result"
    }
   ],
   "source": [
    "def mergedict(d1,d2):\n",
    "    d1.update(d2)\n",
    "    return d1\n",
    "\n",
    "d1={\"key1\":[1,2,3], \"key2\":[4,1,2], \"key3\":[17,3,4]}\n",
    "d2= {\"keyy1\":[1,2,3], \"keyy2\":[4,1,2], \"keyy3\":[17,3,4]}\n",
    "mergedict(d1,d2)"
   ]
  },
  {
   "cell_type": "code",
   "execution_count": 54,
   "id": "42831b23",
   "metadata": {},
   "outputs": [
    {
     "data": {
      "text/plain": [
       "{'key1': [1, 2, 3],\n",
       " 'key2': [4, 1, 2],\n",
       " 'key3': [17, 3, 4],\n",
       " 'keyy1': [1, 2, 3],\n",
       " 'keyy2': [4, 1, 2],\n",
       " 'keyy3': [17, 3, 4]}"
      ]
     },
     "execution_count": 54,
     "metadata": {},
     "output_type": "execute_result"
    }
   ],
   "source": [
    "def mergedict(d1,d2):\n",
    "    \n",
    "    return d1 | d2\n",
    "\n",
    "d1={\"key1\":[1,2,3], \"key2\":[4,1,2], \"key3\":[17,3,4]}\n",
    "d2= {\"keyy1\":[1,2,3], \"keyy2\":[4,1,2], \"keyy3\":[17,3,4]}\n",
    "mergedict(d1,d2)"
   ]
  },
  {
   "cell_type": "markdown",
   "id": "b47504dc",
   "metadata": {},
   "source": [
    "# 4) Write a Python program to convert key-values list to flat dictionary"
   ]
  },
  {
   "cell_type": "code",
   "execution_count": 4,
   "id": "631215b9",
   "metadata": {},
   "outputs": [],
   "source": [
    "orginaldict={\"name\":[\"Arun\", \"Varun\", \"Sarun\"], \"Age\":[35, 36,37]}"
   ]
  },
  {
   "cell_type": "code",
   "execution_count": 21,
   "id": "a0cb0f10",
   "metadata": {},
   "outputs": [
    {
     "name": "stdout",
     "output_type": "stream",
     "text": [
      "['Arun', 'Varun', 'Sarun']\n",
      "{'Arun': 35, 'Varun': 36, 'Sarun': 37}\n"
     ]
    }
   ],
   "source": [
    "#print(\"the orginal dictonary is: \" +str(orginaldict))\n",
    "x=list(orginaldict.values())\n",
    "\n",
    "a=x[0]\n",
    "b=x[1]\n",
    "d=dict()\n",
    "print(a)\n",
    "for i in range(0, len(a)):\n",
    "    d[a[i]]=b[i]\n",
    "\n",
    "    print(d)\n",
    "    "
   ]
  },
  {
   "cell_type": "code",
   "execution_count": 23,
   "id": "adf53297",
   "metadata": {},
   "outputs": [
    {
     "data": {
      "text/plain": [
       "{'Arun': 35, 'Varun': 36, 'Sarun': 37}"
      ]
     },
     "execution_count": 23,
     "metadata": {},
     "output_type": "execute_result"
    }
   ],
   "source": [
    "def flattendict(orginaldict):\n",
    "    \"\"\"function to flatten a dictonary\"\"\"\n",
    "    x=list(orginaldict.values()) #extarcting the values of orginal dictonary\n",
    "    d=dict() #emptu dictonary\n",
    "    a=x[0]\n",
    "    b=x[1]\n",
    "    for i in range(0,len(a)):\n",
    "        d[a[i]]=b[i]\n",
    "    return d\n",
    "\n",
    "orginaldict={\"name\":[\"Arun\", \"Varun\", \"Sarun\"], \"Age\":[35, 36,37]}\n",
    "flattendict(orginaldict)\n",
    "        "
   ]
  },
  {
   "cell_type": "markdown",
   "id": "59fc79c6",
   "metadata": {},
   "source": [
    "# 5) Write a Python program to insertion at the beginning in OrderedDict"
   ]
  },
  {
   "cell_type": "code",
   "execution_count": 25,
   "id": "6cda65d6",
   "metadata": {},
   "outputs": [],
   "source": [
    "initialdict=d"
   ]
  },
  {
   "cell_type": "code",
   "execution_count": 49,
   "id": "65855d1e",
   "metadata": {},
   "outputs": [
    {
     "name": "stdout",
     "output_type": "stream",
     "text": [
      "OrderedDict([('Arun', '35'), ('Varun', '36'), ('Sarun', '37'), ('Marun', 45)])\n",
      "OrderedDict([('Marun', 45), ('Arun', '35'), ('Varun', '36'), ('Sarun', '37')])\n"
     ]
    }
   ],
   "source": [
    "from collections import OrderedDict\n",
    "\n",
    "#initialising the ordered dict\n",
    "inOrderedDict=OrderedDict([('Arun', '35'), ('Varun', '36'), ('Sarun', '37')])\n",
    "\n",
    "inOrderedDict.update({'Marun':45})\n",
    "print(inOrderedDict)\n",
    "\n",
    "inOrderedDict.move_to_end('Marun', last=False)\n",
    "\n",
    "print(inOrderedDict)\n"
   ]
  },
  {
   "cell_type": "code",
   "execution_count": null,
   "id": "aa31d557",
   "metadata": {},
   "outputs": [],
   "source": []
  },
  {
   "cell_type": "markdown",
   "id": "3e103d5e",
   "metadata": {},
   "source": [
    "# 6) Write a Python program to check order of character in string using OrderedDict()?"
   ]
  },
  {
   "cell_type": "code",
   "execution_count": 84,
   "id": "894a7c28",
   "metadata": {},
   "outputs": [
    {
     "data": {
      "text/plain": [
       "True"
      ]
     },
     "execution_count": 84,
     "metadata": {},
     "output_type": "execute_result"
    }
   ],
   "source": [
    "from collections import OrderedDict\n",
    "\n",
    "def orderofcharacter(input, pattern):\n",
    "    newdict=OrderedDict.fromkeys(input)\n",
    "    #print(newdict)\n",
    "    \n",
    "    patternlenght=0\n",
    "    for key, values in newdict.items():\n",
    "        if key==(pattern[patternlenght]):\n",
    "            patternlenght=patternlenght+1\n",
    "            \n",
    "        if patternlenght==len(pattern):\n",
    "            return True\n",
    "        \n",
    "    return False\n",
    "    \n",
    "\n",
    "inputstring=\"welcometoy\"\n",
    "pattern=\"et\"\n",
    "orderofcharacter(input, pattern)\n"
   ]
  },
  {
   "cell_type": "markdown",
   "id": "555ae01f",
   "metadata": {},
   "source": [
    "# 7) Write a Python program to sort Python Dictionaries by Key or Value?"
   ]
  },
  {
   "cell_type": "markdown",
   "id": "03d90282",
   "metadata": {},
   "source": [
    " 1) Sorting Dictionary By Key "
   ]
  },
  {
   "cell_type": "code",
   "execution_count": 123,
   "id": "40b74d88",
   "metadata": {},
   "outputs": [
    {
     "name": "stdout",
     "output_type": "stream",
     "text": [
      "{'Arun': 35, 'Barun': 1, 'Kurun': 10, 'Sarun': 37, 'Varun': 36}\n"
     ]
    }
   ],
   "source": [
    "dictonary={'Arun': 35, 'Varun': 36, 'Sarun': 37, 'Kurun':10, 'Barun':1}\n",
    "sorted_dictionary=dict(sorted(dictonary.items()))\n",
    "print(sorted_dictionary)\n",
    "    \n",
    "\n"
   ]
  },
  {
   "cell_type": "code",
   "execution_count": null,
   "id": "40bade6d",
   "metadata": {},
   "outputs": [],
   "source": []
  }
 ],
 "metadata": {
  "kernelspec": {
   "display_name": "Python 3 (ipykernel)",
   "language": "python",
   "name": "python3"
  },
  "language_info": {
   "codemirror_mode": {
    "name": "ipython",
    "version": 3
   },
   "file_extension": ".py",
   "mimetype": "text/x-python",
   "name": "python",
   "nbconvert_exporter": "python",
   "pygments_lexer": "ipython3",
   "version": "3.11.5"
  }
 },
 "nbformat": 4,
 "nbformat_minor": 5
}
