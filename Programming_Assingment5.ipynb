{
 "cells": [
  {
   "cell_type": "markdown",
   "id": "682744e6",
   "metadata": {},
   "source": [
    "# 1) # Write a Python Program to Find LCM?\n",
    "# 2) Write a Python Program to Find HCF?\n",
    "# 3) Write a Python Program to Convert Decimal to Binary, Octal and  Hexadecimal?\n",
    "\n",
    "# 4) Write a Python Program To Find ASCII value of a character?\n",
    "# 5) Write a Python Program to Make a Simple Calculator with 4 basic  mathematical operations?"
   ]
  },
  {
   "cell_type": "markdown",
   "id": "94a68800",
   "metadata": {},
   "source": [
    "--------------------------------------------------------------------------------------------------------------\n",
    "# 1) # Write a Python Program to Find LCM?"
   ]
  },
  {
   "cell_type": "code",
   "execution_count": 35,
   "id": "f796431e",
   "metadata": {},
   "outputs": [],
   "source": [
    "#with try and except block\n",
    "\n",
    "def lcm(a,b):\n",
    "    \"\"\"Function to find the LCM of numbers\"\"\"\n",
    "        \n",
    "    try: #try block\n",
    "        \n",
    "        if a >b:\n",
    "            greater=a\n",
    "        else:\n",
    "            greater=b\n",
    "            \n",
    "        while True:\n",
    "            if (greater%a==0) and (greater%b ==0) :\n",
    "                lcmis=greater\n",
    "                break\n",
    "                \n",
    "            greater=greater+1\n",
    "        return lcmis\n",
    "    \n",
    "    except Exception as e: #except block\n",
    "        print(\"Check the input\")"
   ]
  },
  {
   "cell_type": "code",
   "execution_count": null,
   "id": "0da55fcf",
   "metadata": {},
   "outputs": [],
   "source": []
  },
  {
   "cell_type": "code",
   "execution_count": 18,
   "id": "d89fecbf",
   "metadata": {},
   "outputs": [
    {
     "data": {
      "text/plain": [
       "15"
      ]
     },
     "execution_count": 18,
     "metadata": {},
     "output_type": "execute_result"
    }
   ],
   "source": [
    "lcm(15,15)\n"
   ]
  },
  {
   "cell_type": "code",
   "execution_count": 37,
   "id": "5ebf1ac3",
   "metadata": {},
   "outputs": [
    {
     "name": "stdout",
     "output_type": "stream",
     "text": [
      "Enter the first digit: 45\n",
      "Enter the second digit: 51\n",
      "765\n"
     ]
    }
   ],
   "source": [
    "def lcm(a,b):\n",
    "    \n",
    "    \"\"\"Function to find the LCM of numbers by taking user input\"\"\"\n",
    "        \n",
    "    if a >b:\n",
    "        greater=a\n",
    "    else:\n",
    "        greater=b\n",
    "    while True:\n",
    "        if (greater%a==0) and (greater%b ==0) :\n",
    "            lcmis=greater\n",
    "            break\n",
    "        greater=greater+1\n",
    "    return lcmis\n",
    "    \n",
    "a=int(input(\"Enter the first digit: \")) #user input\n",
    "b=int(input(\"Enter the second digit: \")) #user input\n",
    "\n",
    "output=lcm(a,b) \n",
    "print (output)"
   ]
  },
  {
   "cell_type": "code",
   "execution_count": 31,
   "id": "d095a83e",
   "metadata": {},
   "outputs": [
    {
     "data": {
      "text/plain": [
       "int"
      ]
     },
     "execution_count": 31,
     "metadata": {},
     "output_type": "execute_result"
    }
   ],
   "source": [
    "type(output)"
   ]
  },
  {
   "cell_type": "markdown",
   "id": "b8e930c9",
   "metadata": {},
   "source": []
  },
  {
   "cell_type": "code",
   "execution_count": 47,
   "id": "8f1886af",
   "metadata": {},
   "outputs": [],
   "source": [
    "def computehcf01(c,d):\n",
    "    \n",
    "    if c>d:\n",
    "        smaller=d\n",
    "    else:\n",
    "        smaller=c\n",
    "    count=1\n",
    "    l1=[]\n",
    "    while count<=smaller:\n",
    "        if (c%count==0) and (d%count==0):\n",
    "            l1.append(count)\n",
    "            #print(l1)\n",
    "        count=count+1                \n",
    "    \n",
    "            \n",
    "    print(max(l1))\n"
   ]
  },
  {
   "cell_type": "code",
   "execution_count": 48,
   "id": "d4643914",
   "metadata": {},
   "outputs": [
    {
     "name": "stdout",
     "output_type": "stream",
     "text": [
      "6\n"
     ]
    }
   ],
   "source": [
    "computehcf01(54,24)"
   ]
  },
  {
   "cell_type": "code",
   "execution_count": 60,
   "id": "e796ed9c",
   "metadata": {},
   "outputs": [],
   "source": [
    "def computehcf02(c,d):\n",
    "    if c>d:\n",
    "        smaller =d\n",
    "    else:\n",
    "        smaller =c\n",
    "    for i in range(1,smaller+1):\n",
    "        if (c%i==0) and (d%i==0):\n",
    "            hcf=i\n",
    "    return hcf\n",
    "        \n",
    "        "
   ]
  },
  {
   "cell_type": "code",
   "execution_count": 61,
   "id": "75dbd6a7",
   "metadata": {},
   "outputs": [
    {
     "data": {
      "text/plain": [
       "6"
      ]
     },
     "execution_count": 61,
     "metadata": {},
     "output_type": "execute_result"
    }
   ],
   "source": [
    "computehcf02(54,24)"
   ]
  },
  {
   "cell_type": "code",
   "execution_count": 152,
   "id": "e3b1af2d",
   "metadata": {},
   "outputs": [],
   "source": [
    "class compute:\n",
    "    def __init__(self,a,b):\n",
    "        self.a=a\n",
    "        self.b=b\n",
    "        \n",
    "    def computelcm(self):\n",
    "        \"\"\"Function to find the LCM of numbers by taking user input\"\"\"\n",
    "        \n",
    "        \n",
    "        if self.a >self.b:\n",
    "            greater=self.a\n",
    "        else:\n",
    "            greater=self.b\n",
    "        while True:\n",
    "            if (greater%self.a==0) and (greater%self.b ==0) :\n",
    "                lcmis=greater\n",
    "                break\n",
    "            greater=greater+1\n",
    "        return lcmis\n",
    "\n",
    "    def computehcf(self): #class declaration\n",
    "        \"\"\"Function to find the HCF of numbers by taking user input\"\"\"\n",
    "        \n",
    "        if self.a>self.b:\n",
    "            smaller =self.a\n",
    "        else:\n",
    "            smaller =self.b\n",
    "        for i in range(1,smaller+1):\n",
    "            if (self.a%i==0) and (self.b%i==0):\n",
    "                hcf=i\n",
    "        return hcf\n",
    "    "
   ]
  },
  {
   "cell_type": "code",
   "execution_count": 153,
   "id": "d3725347",
   "metadata": {},
   "outputs": [],
   "source": [
    "x1=compute(10,20)\n",
    "x2=compute(45,51)\n",
    "x3=compute(54,24)"
   ]
  },
  {
   "cell_type": "code",
   "execution_count": 154,
   "id": "1d571596",
   "metadata": {},
   "outputs": [
    {
     "data": {
      "text/plain": [
       "10"
      ]
     },
     "execution_count": 154,
     "metadata": {},
     "output_type": "execute_result"
    }
   ],
   "source": [
    "x1.computehcf()\n"
   ]
  },
  {
   "cell_type": "code",
   "execution_count": 155,
   "id": "0fc1a051",
   "metadata": {},
   "outputs": [
    {
     "data": {
      "text/plain": [
       "20"
      ]
     },
     "execution_count": 155,
     "metadata": {},
     "output_type": "execute_result"
    }
   ],
   "source": [
    "x1.computelcm()\n"
   ]
  },
  {
   "cell_type": "code",
   "execution_count": 156,
   "id": "f682dd22",
   "metadata": {},
   "outputs": [
    {
     "data": {
      "text/plain": [
       "3"
      ]
     },
     "execution_count": 156,
     "metadata": {},
     "output_type": "execute_result"
    }
   ],
   "source": [
    "x2.computehcf()"
   ]
  },
  {
   "cell_type": "code",
   "execution_count": 157,
   "id": "62f31ae0",
   "metadata": {},
   "outputs": [
    {
     "data": {
      "text/plain": [
       "765"
      ]
     },
     "execution_count": 157,
     "metadata": {},
     "output_type": "execute_result"
    }
   ],
   "source": [
    "x2.computelcm()"
   ]
  },
  {
   "cell_type": "code",
   "execution_count": 158,
   "id": "ddfd9b10",
   "metadata": {},
   "outputs": [
    {
     "data": {
      "text/plain": [
       "6"
      ]
     },
     "execution_count": 158,
     "metadata": {},
     "output_type": "execute_result"
    }
   ],
   "source": [
    "x3.computehcf()"
   ]
  },
  {
   "cell_type": "code",
   "execution_count": 159,
   "id": "3d262e2a",
   "metadata": {},
   "outputs": [
    {
     "data": {
      "text/plain": [
       "216"
      ]
     },
     "execution_count": 159,
     "metadata": {},
     "output_type": "execute_result"
    }
   ],
   "source": [
    "x3.computelcm()"
   ]
  },
  {
   "cell_type": "markdown",
   "id": "14640653",
   "metadata": {},
   "source": [
    "# 4) Write a Python Program To Find ASCII value of a character?\n",
    "ASCII stands for American Standard Code for Information Interchange.\n",
    "\n",
    "It is a numeric value given to different characters and symbols, for computers to store and manipulate. For example, the ASCII value of the letter 'A' is 65."
   ]
  },
  {
   "cell_type": "code",
   "execution_count": 134,
   "id": "1883a052",
   "metadata": {},
   "outputs": [
    {
     "name": "stdout",
     "output_type": "stream",
     "text": [
      "Enter a character to find the ASCII value: q\n"
     ]
    },
    {
     "data": {
      "text/plain": [
       "113"
      ]
     },
     "execution_count": 134,
     "metadata": {},
     "output_type": "execute_result"
    }
   ],
   "source": [
    "def ascii(a):\n",
    "    \"\"\"Finction to define ASCII value\"\"\"\n",
    "    return ord(a) #ord() is a built in function\n",
    "\n",
    "a=input(\"Enter a character to find the ASCII value: \")\n",
    "ascii(a)\n"
   ]
  },
  {
   "cell_type": "markdown",
   "id": "dfaeea4b",
   "metadata": {},
   "source": [
    "# 3) Write a Python Program to Convert Decimal to Binary, Octal and Hexadecimal?"
   ]
  },
  {
   "cell_type": "code",
   "execution_count": 176,
   "id": "2a4a219a",
   "metadata": {},
   "outputs": [
    {
     "name": "stdout",
     "output_type": "stream",
     "text": [
      "Enter a number to convert to Binary, Octal and Hexadecimal: 233\n"
     ]
    }
   ],
   "source": [
    "class convert:\n",
    "    def __init__(self,a):\n",
    "        self.a=a\n",
    "    \n",
    "    def Binary(self):\n",
    "        \"\"\"Function to convert decimal to Binary\"\"\"\n",
    "        return bin(self.a)\n",
    "\n",
    "    def octal(self):\n",
    "        \"\"\"Function to convert decimal to Octal\"\"\"\n",
    "        return oct(self.a)\n",
    "\n",
    "    def hexadecimal(self):\n",
    "        \"\"\"Function to convert decimal to Hexadecimal\"\"\"\n",
    "        return hex(self.a)\n",
    "    \n",
    "c2=convert(int(input(\"Enter a number to convert to Binary, Octal and Hexadecimal: \")))#user input\n",
    "\n"
   ]
  },
  {
   "cell_type": "code",
   "execution_count": 177,
   "id": "263deaf0",
   "metadata": {},
   "outputs": [
    {
     "data": {
      "text/plain": [
       "'0b11101001'"
      ]
     },
     "execution_count": 177,
     "metadata": {},
     "output_type": "execute_result"
    }
   ],
   "source": [
    "c2.Binary()"
   ]
  },
  {
   "cell_type": "code",
   "execution_count": 178,
   "id": "678e4c67",
   "metadata": {},
   "outputs": [
    {
     "data": {
      "text/plain": [
       "'0xe9'"
      ]
     },
     "execution_count": 178,
     "metadata": {},
     "output_type": "execute_result"
    }
   ],
   "source": [
    "c2.hexadecimal()"
   ]
  },
  {
   "cell_type": "code",
   "execution_count": 179,
   "id": "7158d932",
   "metadata": {},
   "outputs": [
    {
     "data": {
      "text/plain": [
       "'0o351'"
      ]
     },
     "execution_count": 179,
     "metadata": {},
     "output_type": "execute_result"
    }
   ],
   "source": [
    "c2.octal()"
   ]
  },
  {
   "cell_type": "code",
   "execution_count": 164,
   "id": "a7528e2a",
   "metadata": {},
   "outputs": [],
   "source": [
    "c1=convert(5)\n"
   ]
  },
  {
   "cell_type": "code",
   "execution_count": 165,
   "id": "3c10402a",
   "metadata": {},
   "outputs": [
    {
     "data": {
      "text/plain": [
       "'0x5'"
      ]
     },
     "execution_count": 165,
     "metadata": {},
     "output_type": "execute_result"
    }
   ],
   "source": [
    "c1.hexadecimal()\n",
    "\n"
   ]
  },
  {
   "cell_type": "code",
   "execution_count": 166,
   "id": "c7d622b1",
   "metadata": {},
   "outputs": [
    {
     "data": {
      "text/plain": [
       "'0b101'"
      ]
     },
     "execution_count": 166,
     "metadata": {},
     "output_type": "execute_result"
    }
   ],
   "source": [
    "c1.Binary()"
   ]
  },
  {
   "cell_type": "code",
   "execution_count": 167,
   "id": "ac08d409",
   "metadata": {},
   "outputs": [
    {
     "data": {
      "text/plain": [
       "'0o5'"
      ]
     },
     "execution_count": 167,
     "metadata": {},
     "output_type": "execute_result"
    }
   ],
   "source": [
    "c1.octal()"
   ]
  },
  {
   "cell_type": "markdown",
   "id": "6419e197",
   "metadata": {},
   "source": [
    "# 5) Write a Python Program to Make a Simple Calculator with 4 basic mathematical operations?"
   ]
  },
  {
   "cell_type": "code",
   "execution_count": 209,
   "id": "8c88d6b0",
   "metadata": {},
   "outputs": [],
   "source": [
    "class calculator:\n",
    "    \n",
    "    def __init__(self,a,b):\n",
    "        self.a=a\n",
    "        self.b=b\n",
    "    \n",
    "    def add(self):\n",
    "        return (self.a)+(self.b)\n",
    "    \n",
    "    def subtract(self):\n",
    "        if self.a>self.b:\n",
    "            return (self.a)-(self.b)\n",
    "        else:\n",
    "            return (self.b)-(self.a)\n",
    "        \n",
    "    def division(self):\n",
    "        if self.a!=0 and self.b!=0:\n",
    "            return self.a/self.b\n",
    "        \n",
    "    def mutliplication(self):\n",
    "        return self.a*self.b\n",
    "        \n",
    "\n",
    "       "
   ]
  },
  {
   "cell_type": "code",
   "execution_count": 214,
   "id": "f95a119e",
   "metadata": {},
   "outputs": [],
   "source": [
    "c1=calculator(1,10)"
   ]
  },
  {
   "cell_type": "code",
   "execution_count": 215,
   "id": "f0c855b9",
   "metadata": {},
   "outputs": [
    {
     "data": {
      "text/plain": [
       "11"
      ]
     },
     "execution_count": 215,
     "metadata": {},
     "output_type": "execute_result"
    }
   ],
   "source": [
    "c1.add()"
   ]
  },
  {
   "cell_type": "code",
   "execution_count": 216,
   "id": "c76e0e05",
   "metadata": {},
   "outputs": [
    {
     "data": {
      "text/plain": [
       "0.1"
      ]
     },
     "execution_count": 216,
     "metadata": {},
     "output_type": "execute_result"
    }
   ],
   "source": [
    "c1.division()"
   ]
  },
  {
   "cell_type": "code",
   "execution_count": 217,
   "id": "deb18a0a",
   "metadata": {},
   "outputs": [
    {
     "data": {
      "text/plain": [
       "9"
      ]
     },
     "execution_count": 217,
     "metadata": {},
     "output_type": "execute_result"
    }
   ],
   "source": [
    "c1.subtract()\n",
    "    "
   ]
  },
  {
   "cell_type": "code",
   "execution_count": 218,
   "id": "74223a1b",
   "metadata": {},
   "outputs": [
    {
     "data": {
      "text/plain": [
       "10"
      ]
     },
     "execution_count": 218,
     "metadata": {},
     "output_type": "execute_result"
    }
   ],
   "source": [
    "c1.mutliplication()"
   ]
  },
  {
   "cell_type": "code",
   "execution_count": null,
   "id": "8bc1746a",
   "metadata": {},
   "outputs": [],
   "source": []
  }
 ],
 "metadata": {
  "kernelspec": {
   "display_name": "Python 3 (ipykernel)",
   "language": "python",
   "name": "python3"
  },
  "language_info": {
   "codemirror_mode": {
    "name": "ipython",
    "version": 3
   },
   "file_extension": ".py",
   "mimetype": "text/x-python",
   "name": "python",
   "nbconvert_exporter": "python",
   "pygments_lexer": "ipython3",
   "version": "3.11.5"
  }
 },
 "nbformat": 4,
 "nbformat_minor": 5
}
