{
 "cells": [
  {
   "cell_type": "markdown",
   "id": "42f8f2cb",
   "metadata": {},
   "source": [
    "# 1) Write a Python Program to find sum of array?\n",
    "\n",
    "\n",
    "\n",
    "\n",
    "# 2) Write a Python Program to find largest element in an array?\n",
    "# 3) Write a Python Program for array rotation?\n",
    "# 4) Write a Python Program to Split the array and add the first part to the end ?\n",
    "# 5) Write a Python Program to check if given array is Monotonic?"
   ]
  },
  {
   "cell_type": "markdown",
   "id": "8480860b",
   "metadata": {},
   "source": [
    "# ________________________________________________________________"
   ]
  },
  {
   "cell_type": "markdown",
   "id": "ecdd449f",
   "metadata": {},
   "source": [
    "# 1) Write a Python Program to find sum of array?"
   ]
  },
  {
   "cell_type": "code",
   "execution_count": 33,
   "id": "b31af8b3",
   "metadata": {},
   "outputs": [
    {
     "name": "stdout",
     "output_type": "stream",
     "text": [
      "Enter the lenght of array: 4\n",
      "Enter the numbers to be added: 1\n",
      "Enter the numbers to be added: 2\n",
      "Enter the numbers to be added: 3\n",
      "Enter the numbers to be added: 1\n",
      "The input array is:  [1, 2, 3, 1]\n",
      "The sum of arrays is: \n"
     ]
    },
    {
     "data": {
      "text/plain": [
       "7"
      ]
     },
     "execution_count": 33,
     "metadata": {},
     "output_type": "execute_result"
    }
   ],
   "source": [
    "def arraysum(args):\n",
    "    \"\"\"function to find the sum of array\"\"\"\n",
    "    sum=0\n",
    "    for i in args:\n",
    "        sum=sum+i\n",
    "    \n",
    "    return sum\n",
    "\n",
    "lenght=int(input(\"Enter the lenght of array: \")) #user input for lenght of array\n",
    "args=[] #empt list to take input from user\n",
    "\n",
    "for i in range(lenght):    \n",
    "    args.append(int(input(\"Enter the numbers to be added: \")))\n",
    "print (\"The input array is: \", args)\n",
    "    \n",
    "arraysum(args)# function call\n",
    "\n",
    "    \n"
   ]
  },
  {
   "cell_type": "code",
   "execution_count": 19,
   "id": "81666246",
   "metadata": {},
   "outputs": [
    {
     "data": {
      "text/plain": [
       "131"
      ]
     },
     "execution_count": 19,
     "metadata": {},
     "output_type": "execute_result"
    }
   ],
   "source": [
    "arraysum(4,5,8,7,8,99)"
   ]
  },
  {
   "cell_type": "markdown",
   "id": "adafca9e",
   "metadata": {},
   "source": [
    "# 2) Write a Python Program to find largest element in an array?"
   ]
  },
  {
   "cell_type": "code",
   "execution_count": 39,
   "id": "f1fb3cd0",
   "metadata": {},
   "outputs": [
    {
     "name": "stdout",
     "output_type": "stream",
     "text": [
      "Enter the lenght of array: 5\n",
      "Enter the number to be added: 66\n",
      "Enter the number to be added: 55\n",
      "Enter the number to be added: 77\n",
      "Enter the number to be added: 22\n",
      "Enter the number to be added: 0\n",
      "The input arrays is :  [66, 55, 77, 22, 0]\n"
     ]
    },
    {
     "data": {
      "text/plain": [
       "77"
      ]
     },
     "execution_count": 39,
     "metadata": {},
     "output_type": "execute_result"
    }
   ],
   "source": [
    "def largestelement(args):\n",
    "    \"\"\"function to find the largest lement in an array\"\"\"\n",
    "    large=0\n",
    "    for i in args:\n",
    "        if i>large:\n",
    "            large=i\n",
    "    return large\n",
    "\n",
    "args=[]\n",
    "lenght=int(input(\"Enter the lenght of array: \")) #user input to get the array lenght\n",
    "for i in range(lenght):\n",
    "    args.append(int(input(\"Enter the number to be added: \"))) #user input to add the array value\n",
    "    \n",
    "print(\"The input arrays is : \", args)\n",
    "largestelement(args) #function call"
   ]
  },
  {
   "cell_type": "markdown",
   "id": "ce501b47",
   "metadata": {},
   "source": [
    "# 3) Write a Python Program for array rotation?"
   ]
  },
  {
   "cell_type": "code",
   "execution_count": 4,
   "id": "72b4f4e4",
   "metadata": {},
   "outputs": [
    {
     "name": "stdout",
     "output_type": "stream",
     "text": [
      "Enter the lenght of array: 5\n",
      "Enter the elements to be added: 1\n",
      "Enter the elements to be added: 2\n",
      "Enter the elements to be added: 3\n",
      "Enter the elements to be added: 4\n",
      "Enter the elements to be added: 5\n",
      "The input arrays is :  [1, 2, 3, 4, 5]\n"
     ]
    },
    {
     "data": {
      "text/plain": [
       "[5, 4, 3, 2, 1]"
      ]
     },
     "execution_count": 4,
     "metadata": {},
     "output_type": "execute_result"
    }
   ],
   "source": [
    "def arrayrotation(args):\n",
    "    newarray=[]\n",
    "    newarray=args[::-1]   \n",
    "        \n",
    "    return newarray\n",
    "    \n",
    "    \n",
    "    \n",
    "args=[]\n",
    "lenght=int(input(\"Enter the lenght of array: \")) #user input to get the array lenght\n",
    "for i in range(lenght):\n",
    "    args.append(int(input(\"Enter the elements to be added: \"))) #user input to add the array value\n",
    "    \n",
    "print(\"The input arrays is : \", args)\n",
    "arrayrotation(args) #function call\n",
    "    "
   ]
  },
  {
   "cell_type": "markdown",
   "id": "b7fa5296",
   "metadata": {},
   "source": [
    "# 4) Write a Python Program to Split the array and add the first part to the end ?"
   ]
  },
  {
   "cell_type": "code",
   "execution_count": 22,
   "id": "ae936a40",
   "metadata": {},
   "outputs": [
    {
     "name": "stdout",
     "output_type": "stream",
     "text": [
      "Enter the lenght of array: 10\n",
      "Enter the elements to be added: 22\n",
      "Enter the elements to be added: 33\n",
      "Enter the elements to be added: 44\n",
      "Enter the elements to be added: 55\n",
      "Enter the elements to be added: 66\n",
      "Enter the elements to be added: 77\n",
      "Enter the elements to be added: 88\n",
      "Enter the elements to be added: 99\n",
      "Enter the elements to be added: 11\n",
      "Enter the elements to be added: 222\n",
      "The input arrays is :  [22, 33, 44, 55, 66, 77, 88, 99, 11, 222]\n"
     ]
    },
    {
     "data": {
      "text/plain": [
       "[33, 44, 55, 66, 77, 88, 99, 11, 222, 22]"
      ]
     },
     "execution_count": 22,
     "metadata": {},
     "output_type": "execute_result"
    }
   ],
   "source": [
    "def arraysplit(args):\n",
    "    \"\"\"function to split array and add the first part to the end\"\"\"\n",
    "    newarray=args\n",
    "        \n",
    "    newarray.append(args[0]) #inserting the first part to end\n",
    "    \n",
    "    newarray.pop(0) #removing the first part\n",
    "     \n",
    "        \n",
    "    return newarray\n",
    "    \n",
    "    \n",
    "    \n",
    "args=[]\n",
    "lenght=int(input(\"Enter the lenght of array: \")) #user input to get the array lenght\n",
    "for i in range(lenght):\n",
    "    args.append(int(input(\"Enter the elements to be added: \"))) #user input to add the array value\n",
    "    \n",
    "print(\"The input arrays is : \", args)\n",
    "arraysplit(args) #function call\n",
    "    "
   ]
  },
  {
   "cell_type": "code",
   "execution_count": 33,
   "id": "e4f7e177",
   "metadata": {},
   "outputs": [
    {
     "name": "stdout",
     "output_type": "stream",
     "text": [
      "Enter the lenght of array: 5\n",
      "Enter the elements: 99\n",
      "Enter the elements: 88\n",
      "Enter the elements: 77\n",
      "Enter the elements: 66\n",
      "Enter the elements: 55\n"
     ]
    },
    {
     "data": {
      "text/plain": [
       "True"
      ]
     },
     "execution_count": 33,
     "metadata": {},
     "output_type": "execute_result"
    }
   ],
   "source": [
    "def monotonic(array):\n",
    "    x,y=[], []\n",
    "    x.extend(array)\n",
    "    y.extend(array)\n",
    "   \n",
    "    x.sort()\n",
    "    y.sort(reverse=True)\n",
    "   \n",
    "    if x==array or y==array:\n",
    "        return True\n",
    "    return False\n",
    "\n",
    "array=[]\n",
    "lenght=int(input(\"Enter the lenght of array: \"))\n",
    "for i in range(lenght):\n",
    "    array.append(int(input(\"Enter the elements: \")))\n",
    "    \n",
    "monotonic(array)\n",
    "    \n",
    "    "
   ]
  },
  {
   "cell_type": "code",
   "execution_count": null,
   "id": "efae1d47",
   "metadata": {},
   "outputs": [],
   "source": []
  }
 ],
 "metadata": {
  "kernelspec": {
   "display_name": "Python 3 (ipykernel)",
   "language": "python",
   "name": "python3"
  },
  "language_info": {
   "codemirror_mode": {
    "name": "ipython",
    "version": 3
   },
   "file_extension": ".py",
   "mimetype": "text/x-python",
   "name": "python",
   "nbconvert_exporter": "python",
   "pygments_lexer": "ipython3",
   "version": "3.11.5"
  }
 },
 "nbformat": 4,
 "nbformat_minor": 5
}
