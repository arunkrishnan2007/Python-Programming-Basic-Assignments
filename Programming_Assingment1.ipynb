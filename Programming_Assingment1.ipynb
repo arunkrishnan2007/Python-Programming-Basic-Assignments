{
 "cells": [
  {
   "cell_type": "markdown",
   "id": "3cc7f5ad",
   "metadata": {},
   "source": [
    "# 1) Write a Python program to print \"Hello Python\"?"
   ]
  },
  {
   "cell_type": "code",
   "execution_count": 9,
   "id": "f1ce08ce",
   "metadata": {},
   "outputs": [],
   "source": [
    "#function definition\n",
    "def name(a): \n",
    "    \"\"\"Python program to print \"Hello Python\"\"\"\n",
    "    return a"
   ]
  },
  {
   "cell_type": "code",
   "execution_count": 10,
   "id": "cb85d6bf",
   "metadata": {},
   "outputs": [
    {
     "data": {
      "text/plain": [
       "'Hello Python'"
      ]
     },
     "execution_count": 10,
     "metadata": {},
     "output_type": "execute_result"
    }
   ],
   "source": [
    "name(\"Hello Python\")"
   ]
  },
  {
   "cell_type": "code",
   "execution_count": null,
   "id": "57510eb6",
   "metadata": {},
   "outputs": [],
   "source": []
  },
  {
   "cell_type": "markdown",
   "id": "d59f9ef4",
   "metadata": {},
   "source": [
    "# 2) Write a Python program to do arithmetical operations addition and division.?"
   ]
  },
  {
   "cell_type": "markdown",
   "id": "65284fed",
   "metadata": {},
   "source": [
    "1) Addition using function definition"
   ]
  },
  {
   "cell_type": "code",
   "execution_count": 9,
   "id": "b5295e13",
   "metadata": {},
   "outputs": [],
   "source": [
    "\n",
    "#Addition using function definition\n",
    "\n",
    "def num01(a,b):\n",
    "    \"\"\"Python program to do arithmetical operations addition\"\"\"\n",
    "    return a+b\n",
    "    \n"
   ]
  },
  {
   "cell_type": "code",
   "execution_count": 10,
   "id": "4602ba38",
   "metadata": {},
   "outputs": [
    {
     "data": {
      "text/plain": [
       "3"
      ]
     },
     "execution_count": 10,
     "metadata": {},
     "output_type": "execute_result"
    }
   ],
   "source": [
    "num01(1,2)"
   ]
  },
  {
   "cell_type": "markdown",
   "id": "d4204b32",
   "metadata": {},
   "source": [
    "2. Addition using function *args and sum function"
   ]
  },
  {
   "cell_type": "code",
   "execution_count": 4,
   "id": "849df032",
   "metadata": {},
   "outputs": [],
   "source": [
    "def num02(*args): \n",
    "    \"\"\" num02 function calling with *args and return using sum function\"\"\"\n",
    "    return sum(args)"
   ]
  },
  {
   "cell_type": "code",
   "execution_count": 8,
   "id": "ac558100",
   "metadata": {},
   "outputs": [
    {
     "data": {
      "text/plain": [
       "1277.2"
      ]
     },
     "execution_count": 8,
     "metadata": {},
     "output_type": "execute_result"
    }
   ],
   "source": [
    "num02(1212,8,2,0,55.2)"
   ]
  },
  {
   "cell_type": "markdown",
   "id": "cd8484f8",
   "metadata": {},
   "source": [
    "3. Addition using simple operation"
   ]
  },
  {
   "cell_type": "code",
   "execution_count": 39,
   "id": "69a06684",
   "metadata": {},
   "outputs": [
    {
     "name": "stdout",
     "output_type": "stream",
     "text": [
      "9\n"
     ]
    }
   ],
   "source": [
    "a= 4 #input\n",
    "b=5 #input\n",
    "\n",
    "add=a+b \n",
    "\n",
    "print(add)"
   ]
  },
  {
   "cell_type": "markdown",
   "id": "67e8b0c2",
   "metadata": {},
   "source": [
    "3. Addition using Lambda function"
   ]
  },
  {
   "cell_type": "code",
   "execution_count": 53,
   "id": "9237f715",
   "metadata": {},
   "outputs": [],
   "source": [
    "#Addition and division using Lambda function\n",
    "a = lambda a,b:(a+b, a/b)"
   ]
  },
  {
   "cell_type": "code",
   "execution_count": 52,
   "id": "8cc6d217",
   "metadata": {},
   "outputs": [
    {
     "data": {
      "text/plain": [
       "(60, 11.0)"
      ]
     },
     "execution_count": 52,
     "metadata": {},
     "output_type": "execute_result"
    }
   ],
   "source": [
    "a(55,5)"
   ]
  },
  {
   "cell_type": "code",
   "execution_count": 71,
   "id": "57ac0728",
   "metadata": {},
   "outputs": [
    {
     "name": "stdout",
     "output_type": "stream",
     "text": [
      "Enter the first number: 45\n",
      "Enter the second number: 5\n",
      "The sum is:  45.3\n"
     ]
    }
   ],
   "source": [
    "a=float(input(\"Enter the first number: \") ) #input from user\n",
    "b=float(input(\"Enter the second number: \")) #input from user\n",
    "\n",
    "summ = a+b\n",
    "\n",
    "print(\"The sum is: \", sum)"
   ]
  },
  {
   "cell_type": "markdown",
   "id": "138ca7a8",
   "metadata": {},
   "source": [
    "# Division"
   ]
  },
  {
   "cell_type": "code",
   "execution_count": 12,
   "id": "bb544dd3",
   "metadata": {},
   "outputs": [],
   "source": [
    "d= lambda a,b: a/b #using lambda function"
   ]
  },
  {
   "cell_type": "code",
   "execution_count": 13,
   "id": "88ac0cc3",
   "metadata": {},
   "outputs": [
    {
     "data": {
      "text/plain": [
       "4.0"
      ]
     },
     "execution_count": 13,
     "metadata": {},
     "output_type": "execute_result"
    }
   ],
   "source": [
    "d(20,5)"
   ]
  },
  {
   "cell_type": "code",
   "execution_count": 23,
   "id": "26c800b8",
   "metadata": {},
   "outputs": [],
   "source": [
    "def num03(a,b): \n",
    "    \"\"\" Division using num03 function\"\"\"\n",
    "    return a/b"
   ]
  },
  {
   "cell_type": "code",
   "execution_count": 17,
   "id": "c078a71f",
   "metadata": {},
   "outputs": [
    {
     "data": {
      "text/plain": [
       "0.3333333333333333"
      ]
     },
     "execution_count": 17,
     "metadata": {},
     "output_type": "execute_result"
    }
   ],
   "source": [
    "num03(1,3)"
   ]
  },
  {
   "cell_type": "code",
   "execution_count": 24,
   "id": "bd90f02b",
   "metadata": {},
   "outputs": [
    {
     "name": "stdout",
     "output_type": "stream",
     "text": [
      "Enter the first number: 20\n",
      "Enter the second number: 3\n"
     ]
    },
    {
     "data": {
      "text/plain": [
       "6.666666666666667"
      ]
     },
     "execution_count": 24,
     "metadata": {},
     "output_type": "execute_result"
    }
   ],
   "source": [
    "a= float(input(\"Enter the first number: \")) #user input in float\n",
    "b= float(input(\"Enter the second number: \")) #user input in float\n",
    "\n",
    "def num04(a,b):\n",
    "    \"\"\"Division using num04 function\"\"\"\n",
    "    return a/b\n",
    "\n",
    "num04(a,b)"
   ]
  },
  {
   "cell_type": "markdown",
   "id": "93d84b6e",
   "metadata": {},
   "source": [
    "# Write a Python program to find the area of a triangle?\n"
   ]
  },
  {
   "cell_type": "code",
   "execution_count": 58,
   "id": "a7e12898",
   "metadata": {},
   "outputs": [
    {
     "name": "stdout",
     "output_type": "stream",
     "text": [
      "There are six types of triangles in geometry. \n",
      "For Equilateral Triangle select 1 \n",
      "For Isosceles Triangle select 2 \n",
      "For Scalene Triangle select 3 \n",
      "For Acute Triangle select 4 \n",
      "For Right Triangle select 5 \n",
      "For Obtuse Triangle select 6 \n",
      "Please select the type of triangle: 6\n",
      "Enter the values of b,h\n",
      "Enter the base of triangle b: 6\n",
      "Enter the height of triangle h: 6\n",
      "The area of the right angles triangle is 18.00 cm²\n"
     ]
    }
   ],
   "source": [
    "import math\n",
    "print (\"There are six types of triangles in geometry. \")\n",
    "\n",
    "print (\"For Equilateral Triangle select 1 \")\n",
    "print (\"For Isosceles Triangle select 2 \")\n",
    "print (\"For Scalene Triangle select 3 \")\n",
    "print (\"For Acute Triangle select 4 \")\n",
    "print (\"For Right Triangle select 5 \")\n",
    "print (\"For Obtuse Triangle select 6 \")\n",
    "\n",
    "i= int(input(\"Please select the type of triangle: \"))\n",
    "\n",
    "\n",
    "if i == 1:\n",
    "    print(\"Enter the value of 'a' side of equilateral triangle: \")\n",
    "    a = float(input())\n",
    "    \n",
    "    # calculate the area\n",
    "    area = (math.sqrt(3))* (a**2)/4\n",
    "    \n",
    "    print(\"The area of Equilateral Triangle is :\",area, \"cm\\u00b2\")\n",
    "    \n",
    "elif i == 2:\n",
    "    \n",
    "    print( \"Enter the values of a,b,c\")\n",
    "    \n",
    "    a=float(input(\"Enter the value of a: \"))\n",
    "    b=float(input(\"Enter the value of b: \"))\n",
    "    c=float(input(\"Enter the value of c: \"))\n",
    "    \n",
    "    #semi permeter calculation\n",
    "    s = (a+b+c)/2\n",
    "    \n",
    "    # calculate the area\n",
    "    area = (s*(s-a)*(s-b)*(s-c)) ** 0.5\n",
    "    \n",
    "    print('The area of the triangle is %0.2f' %area, \"cm\\u00b2\")   \n",
    "    \n",
    "elif i == 3:\n",
    "    \n",
    "    print( \"Enter the values of a,b,c\")\n",
    "    \n",
    "    a=float(input(\"Enter the value of a: \"))\n",
    "    b=float(input(\"Enter the value of b: \"))\n",
    "    c=float(input(\"Enter the value of c: \"))\n",
    "    \n",
    "    #semi permeter calculation\n",
    "    s = (a+b+c)/2\n",
    "    \n",
    "    # calculate the area\n",
    "    area = (s*(s-a)*(s-b)*(s-c)) ** 0.5\n",
    "    \n",
    "    print('The area of the triangle is %0.2f' %area, \"cm\\u00b2\")\n",
    "    \n",
    "elif i == 4:\n",
    "    print( \"Enter the values of a,b,c\")\n",
    "    \n",
    "    a=float(input(\"Enter the value of a: \"))\n",
    "    b=float(input(\"Enter the value of b: \"))\n",
    "    c=float(input(\"Enter the value of c: \"))\n",
    "    \n",
    "    #semi permeter calculation\n",
    "    s = (a+b+c)/2\n",
    "    \n",
    "    # calculate the area\n",
    "    area = (s*(s-a)*(s-b)*(s-c)) ** 0.5\n",
    "    \n",
    "    print('The area of the triangle is %0.2f' %area, \"cm\\u00b2\")\n",
    "    \n",
    "elif i == 5:\n",
    "    print( \"Enter the values of b,h\")\n",
    "    \n",
    "    b=float(input(\"Enter the base of triangle b: \"))\n",
    "    h=float(input(\"Enter the height of triangle h: \"))\n",
    "    \n",
    "    # calculate the area\n",
    "    area = (b*h)*.5\n",
    "    \n",
    "    print('The area of the right angles triangle is %0.2f' %area, \"cm\\u00b2\")\n",
    "    \n",
    "    \n",
    "    \n",
    "elif i == 6:\n",
    "    print( \"Enter the values of b,h\")\n",
    "    \n",
    "    b=float(input(\"Enter the base of triangle b: \"))\n",
    "    h=float(input(\"Enter the height of triangle h: \"))\n",
    "    \n",
    "    # calculate the area\n",
    "    area = (b*h)*.5\n",
    "    \n",
    "    print('The area of the right angles triangle is %0.2f' %area, \"cm\\u00b2\")\n",
    "    \n",
    "else:\n",
    "    print(\"Please select the triangle number between 1-6 \")\n",
    "        "
   ]
  },
  {
   "cell_type": "markdown",
   "id": "ebcff4fd",
   "metadata": {},
   "source": [
    "# Write a Python program to swap two variables?"
   ]
  },
  {
   "cell_type": "code",
   "execution_count": 97,
   "id": "e93e458d",
   "metadata": {},
   "outputs": [],
   "source": [
    "def swap(a,b): \n",
    "    \"\"\"Swap function to swap the number by creating 2 local varibales temp1 and temp2\"\"\"\n",
    "    temp1=a\n",
    "    temp2=b\n",
    "    b=temp1\n",
    "    a=temp2\n",
    "    return (a,b)"
   ]
  },
  {
   "cell_type": "code",
   "execution_count": 68,
   "id": "09bb1fa3",
   "metadata": {},
   "outputs": [
    {
     "data": {
      "text/plain": [
       "(15, 41)"
      ]
     },
     "execution_count": 68,
     "metadata": {},
     "output_type": "execute_result"
    }
   ],
   "source": [
    "swap(41,15)"
   ]
  },
  {
   "cell_type": "markdown",
   "id": "7539b7df",
   "metadata": {},
   "source": [
    "# Write a Python program to generate a random number?"
   ]
  },
  {
   "cell_type": "code",
   "execution_count": 95,
   "id": "25f23d09",
   "metadata": {},
   "outputs": [
    {
     "name": "stdout",
     "output_type": "stream",
     "text": [
      "6\n"
     ]
    }
   ],
   "source": [
    "#import random module\n",
    "import random\n",
    "print(random.randint(0,50))\n",
    "        "
   ]
  },
  {
   "cell_type": "code",
   "execution_count": null,
   "id": "8d1c5733",
   "metadata": {},
   "outputs": [],
   "source": []
  },
  {
   "cell_type": "code",
   "execution_count": null,
   "id": "9180ae8d",
   "metadata": {},
   "outputs": [],
   "source": []
  }
 ],
 "metadata": {
  "kernelspec": {
   "display_name": "Python 3 (ipykernel)",
   "language": "python",
   "name": "python3"
  },
  "language_info": {
   "codemirror_mode": {
    "name": "ipython",
    "version": 3
   },
   "file_extension": ".py",
   "mimetype": "text/x-python",
   "name": "python",
   "nbconvert_exporter": "python",
   "pygments_lexer": "ipython3",
   "version": "3.11.5"
  }
 },
 "nbformat": 4,
 "nbformat_minor": 5
}
