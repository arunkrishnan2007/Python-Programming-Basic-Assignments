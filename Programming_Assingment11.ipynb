{
 "cells": [
  {
   "cell_type": "markdown",
   "id": "19dff890",
   "metadata": {},
   "source": [
    "# 1) Write a Python program to find words which are greater than given length k?"
   ]
  },
  {
   "cell_type": "code",
   "execution_count": 39,
   "id": "8e3dc0a7",
   "metadata": {},
   "outputs": [
    {
     "name": "stdout",
     "output_type": "stream",
     "text": [
      "Enter the word or sentence: indiaaaa\n",
      "Enter the lengh to check: 3\n",
      "The word indiaaaa is greater than 3 words\n"
     ]
    }
   ],
   "source": [
    "def wordcatch(word,k):\n",
    "    if len(word)>k:\n",
    "        print(\"The word\", word, \"is greater than\", k, \"words\")\n",
    "    else:\n",
    "        print(\"The word\", word, \"is less than\", k, \"words\")\n",
    "    \n",
    "word=input(\"Enter the word or sentence: \")\n",
    "k=int(input(\"Enter the lengh to check: \"))\n",
    "wordcatch(word,k)"
   ]
  },
  {
   "cell_type": "code",
   "execution_count": 38,
   "id": "b732e259",
   "metadata": {},
   "outputs": [
    {
     "name": "stdout",
     "output_type": "stream",
     "text": [
      "Enter the lengh to check: 6\n",
      "The word india is less than 6 words\n",
      "The word srilanka is greater than 6 words\n",
      "The word himachal is greater than 6 words\n",
      "The word kerala is less than 6 words\n",
      "The word USA is less than 6 words\n"
     ]
    }
   ],
   "source": [
    "def wordcatch(*word):\n",
    "    for i in word:       \n",
    "        if len(i)>k:\n",
    "            print(\"The word\", i, \"is greater than\", k, \"words\")\n",
    "        else:\n",
    "            print(\"The word\", i, \"is less than\", k, \"words\")\n",
    "    \n",
    "word= \"india\", \"srilanka\", \"himachal\", \"kerala\",\"USA\"\n",
    "k=int(input(\"Enter the lengh to check: \"))\n",
    "wordcatch(*word)"
   ]
  },
  {
   "cell_type": "markdown",
   "id": "85c31a62",
   "metadata": {},
   "source": [
    "# 2) Write a Python program for removing i-th character from a string?"
   ]
  },
  {
   "cell_type": "code",
   "execution_count": 45,
   "id": "d295f7b8",
   "metadata": {},
   "outputs": [
    {
     "name": "stdout",
     "output_type": "stream",
     "text": [
      "Enter the string: I love my country.\n",
      "Enter the i th charatcer number to remove from string: 0\n"
     ]
    },
    {
     "data": {
      "text/plain": [
       "' love my country.'"
      ]
     },
     "execution_count": 45,
     "metadata": {},
     "output_type": "execute_result"
    }
   ],
   "source": [
    "def removeith(char):\n",
    "    v1=char[:k:]\n",
    "    v2=char[k+1::]\n",
    "    \n",
    "    return v1+v2\n",
    "  \n",
    "\n",
    "char=input(\"Enter the string: \")\n",
    "k=int(input( \"Enter the i th charatcer number to remove from string: \"))\n",
    "removeith(char)"
   ]
  },
  {
   "cell_type": "code",
   "execution_count": 60,
   "id": "11e25940",
   "metadata": {},
   "outputs": [
    {
     "name": "stdout",
     "output_type": "stream",
     "text": [
      "Enter the string: I love you december,you look awsome\n",
      "Enter the i th charatcer number to remove from string: 15\n"
     ]
    },
    {
     "data": {
      "text/plain": [
       "'I love you deceber,you look awsome'"
      ]
     },
     "execution_count": 60,
     "metadata": {},
     "output_type": "execute_result"
    }
   ],
   "source": [
    "def replaceith(char):\n",
    "    for i in range(len(char)):\n",
    "           if i == k:                   \n",
    "                char=char.replace(char[k],\"\",1)\n",
    "    return char\n",
    "                \n",
    "\n",
    "char=input(\"Enter the string: \")\n",
    "k=int(input( \"Enter the i th charatcer number to remove from string: \"))\n",
    "replaceith(char)"
   ]
  },
  {
   "cell_type": "markdown",
   "id": "0d3837df",
   "metadata": {},
   "source": [
    "# 3) Write a Python program to split and join a string?\n"
   ]
  },
  {
   "cell_type": "code",
   "execution_count": null,
   "id": "7ffcbe23",
   "metadata": {},
   "outputs": [],
   "source": [
    "India is a very beautiful palce to live in the world.\n",
    " Hello World. This is a beautiful song."
   ]
  },
  {
   "cell_type": "code",
   "execution_count": 20,
   "id": "0a4275a6",
   "metadata": {},
   "outputs": [
    {
     "name": "stdout",
     "output_type": "stream",
     "text": [
      "Enter the sentence to split: welcome to bangalore\n"
     ]
    },
    {
     "data": {
      "text/plain": [
       "['welcome', 'to', 'bangalore']"
      ]
     },
     "execution_count": 20,
     "metadata": {},
     "output_type": "execute_result"
    }
   ],
   "source": [
    "def splitstring(sentence):\n",
    "    finalsplit=sentence.split(\" \", 2)\n",
    "    return finalsplit\n",
    "\n",
    "sentence= input(\"Enter the sentence to split: \")\n",
    "splitstring(sentence)\n"
   ]
  },
  {
   "cell_type": "code",
   "execution_count": 26,
   "id": "37d36d01",
   "metadata": {},
   "outputs": [
    {
     "name": "stdout",
     "output_type": "stream",
     "text": [
      "Enter the number of word to join: 5\n",
      "india is a \n",
      "very good\n",
      "country to \n",
      "live \n",
      "out of entire world\n"
     ]
    },
    {
     "data": {
      "text/plain": [
       "'india is a #very good#country to #live #out of entire world'"
      ]
     },
     "execution_count": 26,
     "metadata": {},
     "output_type": "execute_result"
    }
   ],
   "source": [
    "def joinstring(finalsplit):\n",
    "    finaljoin=\"#\".join(finalsplit)\n",
    "    return finaljoin\n",
    "\n",
    "n=int(input(\"Enter the number of word to join: \"))\n",
    "finalsplit=[]\n",
    "for i in range(n):\n",
    "    finalsplit.append(input())\n",
    "joinstring(finalsplit)\n",
    "    "
   ]
  },
  {
   "cell_type": "markdown",
   "id": "ff5883fc",
   "metadata": {},
   "source": [
    "# 4) Write a Python to check if a given string is binary string or not?"
   ]
  },
  {
   "cell_type": "code",
   "execution_count": 48,
   "id": "98a4d4d5",
   "metadata": {},
   "outputs": [
    {
     "name": "stdout",
     "output_type": "stream",
     "text": [
      "Enter the string to check binary or not: 10101010\n",
      "yes, This is a binary string\n"
     ]
    }
   ],
   "source": [
    "def checkbinarystring(a):\n",
    "    \"\"\"Function to check binary string or not\"\"\"\n",
    "    p=set(a)\n",
    "    s={'1','0'}\n",
    "    if p==s or p=={'0'} or p=={'1'}:\n",
    "        print(\"yes, This is a binary string\")\n",
    "    else:\n",
    "        print(\"No, This is not a binary string\")\n",
    "\n",
    "a=input(\"Enter the string to check binary or not: \")\n",
    "checkbinarystring(a)"
   ]
  },
  {
   "cell_type": "markdown",
   "id": "a8c13899",
   "metadata": {},
   "source": [
    "# 5 ) Write a Python program to find uncommon words from two Strings?"
   ]
  },
  {
   "cell_type": "code",
   "execution_count": 75,
   "id": "9a51d6aa",
   "metadata": {},
   "outputs": [
    {
     "name": "stdout",
     "output_type": "stream",
     "text": [
      "{'more', 'russia', 'compared', 'when', 'than', 'to', 'usa'}\n"
     ]
    }
   ],
   "source": [
    "string1=\"kerala is beautiful when compared to russia\"\n",
    "string1split=string1.split(\" \")\n",
    "string2=\"kerala is more beautiful than usa\"\n",
    "string2split=string2.split(\" \")\n",
    "uncommon=set()\n",
    "\n",
    "for i in string1split:\n",
    "    if i in string2split:\n",
    "        pass\n",
    "    else:        \n",
    "        uncommon.add(i)\n",
    "for j in string2split:\n",
    "    if j in string1split:\n",
    "        pass\n",
    "    else:\n",
    "        uncommon.add(j)\n",
    "        \n",
    "   \n",
    "            \n",
    "print(uncommon)\n",
    "            "
   ]
  },
  {
   "cell_type": "code",
   "execution_count": 78,
   "id": "efc84bc2",
   "metadata": {},
   "outputs": [
    {
     "name": "stdout",
     "output_type": "stream",
     "text": [
      "Enter the string 1: nexon is the cheapest SUV\n",
      "Enter the string 2: Nexon is the cheapest SUV if Punch was not manufactured\n"
     ]
    },
    {
     "data": {
      "text/plain": [
       "{'Nexon', 'Punch', 'if', 'manufactured', 'nexon', 'not', 'was'}"
      ]
     },
     "execution_count": 78,
     "metadata": {},
     "output_type": "execute_result"
    }
   ],
   "source": [
    "def uncommonword(string1, string2):\n",
    "    \"\"\"Function to return uncommon words by comparing two strings\"\"\"\n",
    "    \n",
    "    string1split=string1.split(\" \")\n",
    "\n",
    "    string2split=string2.split(\" \")\n",
    "    \n",
    "    uncommon=set()\n",
    "\n",
    "    for i in string1split:\n",
    "        if i in string2split:\n",
    "            pass\n",
    "        else:        \n",
    "            uncommon.add(i)\n",
    "    for j in string2split:\n",
    "        if j in string1split:\n",
    "            pass\n",
    "        else:\n",
    "            uncommon.add(j)     \n",
    "\n",
    "\n",
    "    return uncommon\n",
    "\n",
    "string1=input(\"Enter the string 1: \")\n",
    "string2=input(\"Enter the string 2: \")\n",
    "uncommonword(string1, string2)\n",
    "            "
   ]
  },
  {
   "cell_type": "markdown",
   "id": "44892ff4",
   "metadata": {},
   "source": [
    "# 6) Write a Python to find all duplicate characters in string"
   ]
  },
  {
   "cell_type": "code",
   "execution_count": 101,
   "id": "9f20d4fb",
   "metadata": {},
   "outputs": [
    {
     "name": "stdout",
     "output_type": "stream",
     "text": [
      "Enter a string to find the duplicate charcters: welcome to the world of python\n"
     ]
    },
    {
     "data": {
      "text/plain": [
       "{' ', 'e', 'h', 'l', 'o', 't', 'w'}"
      ]
     },
     "execution_count": 101,
     "metadata": {},
     "output_type": "execute_result"
    }
   ],
   "source": [
    "def duplicatecharinstring(strings):\n",
    "    emptyset=set()\n",
    "    for i in range(len(strings)):\n",
    "        if strings[i] in strings[i+1::]:\n",
    "            emptyset.add(strings[i])\n",
    "    return emptyset\n",
    "\n",
    "    \n",
    "    \n",
    "strings=input(\"Enter a string to find the duplicate charcters: \")\n",
    "duplicatecharinstring(strings)\n"
   ]
  },
  {
   "cell_type": "markdown",
   "id": "4c39e2eb",
   "metadata": {},
   "source": [
    "# 7) Write a Python Program to check if a string contains any special character?"
   ]
  },
  {
   "cell_type": "code",
   "execution_count": 14,
   "id": "4ae291c4",
   "metadata": {},
   "outputs": [
    {
     "name": "stdout",
     "output_type": "stream",
     "text": [
      "Enter the string to check if it has special character or not: skjdnvdfnbifnb8989wr894358/*-+;'.,,\n"
     ]
    },
    {
     "data": {
      "text/plain": [
       "(['/', '*', '-', '+', ';', \"'\", '.', ',', ','], 9)"
      ]
     },
     "execution_count": 14,
     "metadata": {},
     "output_type": "execute_result"
    }
   ],
   "source": [
    "def specialchar(stringss):\n",
    "    chardetails=[]\n",
    "    count=0\n",
    "    \n",
    "    for i in range(len(stringss)):\n",
    "        if (stringss[i].isalpha()):\n",
    "            continue\n",
    "            \n",
    "        elif (stringss[i].isdigit()):\n",
    "            continue\n",
    "        elif (stringss[i].isspace()):\n",
    "            continue\n",
    "            \n",
    "        else:\n",
    "            chardetails.append(stringss[i])\n",
    "            #print(stringss[i])\n",
    "            count=count+1\n",
    "    return chardetails, count    \n",
    "    \n",
    "    \n",
    "stringss=input(\"Enter the string to check if it has special character or not: \")\n",
    "specialchar(stringss)\n"
   ]
  },
  {
   "cell_type": "code",
   "execution_count": null,
   "id": "7b03343c",
   "metadata": {},
   "outputs": [],
   "source": []
  }
 ],
 "metadata": {
  "kernelspec": {
   "display_name": "Python 3 (ipykernel)",
   "language": "python",
   "name": "python3"
  },
  "language_info": {
   "codemirror_mode": {
    "name": "ipython",
    "version": 3
   },
   "file_extension": ".py",
   "mimetype": "text/x-python",
   "name": "python",
   "nbconvert_exporter": "python",
   "pygments_lexer": "ipython3",
   "version": "3.11.5"
  }
 },
 "nbformat": 4,
 "nbformat_minor": 5
}
