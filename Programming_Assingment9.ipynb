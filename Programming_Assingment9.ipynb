{
 "cells": [
  {
   "cell_type": "markdown",
   "id": "df22c134",
   "metadata": {},
   "source": [
    "# 1) Write a Python program to check if the given number is a Disarium Number?\n"
   ]
  },
  {
   "cell_type": "markdown",
   "id": "fdca8d22",
   "metadata": {},
   "source": [
    "A Disarium number is the sum of the digits to the power of their respective position is equal to the number"
   ]
  },
  {
   "cell_type": "code",
   "execution_count": 42,
   "id": "9f0c42e1",
   "metadata": {},
   "outputs": [
    {
     "name": "stdout",
     "output_type": "stream",
     "text": [
      "Enter the number to check Disarium or nor: 135\n",
      "rem 5\n",
      "sum 125\n",
      "lenght 2\n",
      "rem 3\n",
      "sum 134\n",
      "lenght 1\n",
      "rem 1\n",
      "sum 135\n",
      "lenght 0\n",
      "it is disarium:  Final sum:  135 Input:  0\n"
     ]
    },
    {
     "data": {
      "text/plain": [
       "135"
      ]
     },
     "execution_count": 42,
     "metadata": {},
     "output_type": "execute_result"
    }
   ],
   "source": [
    "def length(a):\n",
    "    \"\"\"function to return the lenght of numbers\"\"\"\n",
    "    count=0\n",
    "    \n",
    "    while a!=0:\n",
    "        count=count+1 #counter to iterrate through numbers\n",
    "        a=a//10\n",
    "    return count\n",
    "\n",
    "\n",
    "def disarium(a):\n",
    "    \"\"\"Function to return disarium number or not\"\"\"\n",
    "    \n",
    "    numlen=length(a) #calling function\n",
    "    sum=0\n",
    "    remainder=0\n",
    "    \n",
    "    while a!=0:\n",
    "        remainder=a%10 \n",
    "        print(\"rem\",remainder)   \n",
    "        \n",
    "        sum=sum+(remainder**(numlen))\n",
    "        print(\"sum\",sum)\n",
    "        \n",
    "        a=a//10\n",
    "        numlen=numlen-1\n",
    "        print(\"lenght\", numlen)\n",
    "    \n",
    "  \n",
    "    if input == sum:#comparing user input with final output\n",
    "        print(\"it is disarium: \",\"Final sum: \", sum,\"Input: \", a)\n",
    "    else:\n",
    "        print(\"not a disarium: \", \"Final sum: \", sum,\"Input \", a)\n",
    "    return sum\n",
    "\n",
    "        \n",
    "a=int(input(\"Enter the number to check Disarium or nor: \"))#user input\n",
    "input=a #user input storing for final comparision\n",
    "disarium(a)    \n",
    "       "
   ]
  },
  {
   "cell_type": "markdown",
   "id": "db0f0a26",
   "metadata": {},
   "source": [
    "# 2) Write a Python program to print all disarium numbers between 1 to 100?\n"
   ]
  },
  {
   "cell_type": "code",
   "execution_count": 5,
   "id": "a54661f8",
   "metadata": {},
   "outputs": [
    {
     "name": "stdout",
     "output_type": "stream",
     "text": [
      "it is disarium:  Final sum:  1 Input:  1\n",
      "it is disarium:  Final sum:  2 Input:  2\n",
      "it is disarium:  Final sum:  3 Input:  3\n",
      "it is disarium:  Final sum:  4 Input:  4\n",
      "it is disarium:  Final sum:  5 Input:  5\n",
      "it is disarium:  Final sum:  6 Input:  6\n",
      "it is disarium:  Final sum:  7 Input:  7\n",
      "it is disarium:  Final sum:  8 Input:  8\n",
      "it is disarium:  Final sum:  9 Input:  9\n",
      "it is disarium:  Final sum:  89 Input:  89\n"
     ]
    }
   ],
   "source": [
    "def length(a):\n",
    "    \"\"\"function to return the lenght of numbers\"\"\"\n",
    "    count=0\n",
    "    \n",
    "    while a!=0:\n",
    "        count=count+1 #counter to iterrate through numbers\n",
    "        a=a//10\n",
    "    return count\n",
    "\n",
    "\n",
    "def disarium(a):\n",
    "    \"\"\"Function to return disarium number or not\"\"\"\n",
    "    \n",
    "    numlen=length(a) #calling function\n",
    "    sum=0\n",
    "    remainder=0\n",
    "    \n",
    "    while a!=0:\n",
    "        remainder=a%10          \n",
    "        \n",
    "        sum=sum+(remainder**(numlen))        \n",
    "        \n",
    "        a=a//10\n",
    "        numlen=numlen-1      \n",
    "    \n",
    "  \n",
    "    if input == sum:#comparing user input with final output\n",
    "        print(\"it is disarium: \",\"Final sum: \", sum,\"Input: \", input)\n",
    "   \n",
    "\n",
    "        \n",
    "for i in range(1,101): # input from 1 to 100\n",
    "    input=i\n",
    "    disarium(i)\n",
    "    \n",
    "    \n",
    "       \n",
    "   \n",
    "    "
   ]
  },
  {
   "cell_type": "markdown",
   "id": "689a315e",
   "metadata": {},
   "source": [
    "# 3) Write a Python program to check if the given number is Happy Number?\n"
   ]
  },
  {
   "cell_type": "code",
   "execution_count": 59,
   "id": "f48ca779",
   "metadata": {},
   "outputs": [
    {
     "name": "stdout",
     "output_type": "stream",
     "text": [
      "Enter the number: 68\n",
      "68 Is a Happy number\n"
     ]
    }
   ],
   "source": [
    "def happy(number):\n",
    "    \"\"\"Fucntion to check Happy number\"\"\"\n",
    "    \n",
    "     \n",
    "    sum=0\n",
    "    while number!=0:\n",
    "        n=number%10\n",
    "        sum=sum+n**2\n",
    "        number=number//10\n",
    "    \n",
    "    \n",
    "    if sum>=10:\n",
    "        happy(sum)\n",
    "        \n",
    "    elif sum>1 and sum<10:\n",
    "        print(a,\"Is not a Happy number\")  \n",
    "        \n",
    "    else:\n",
    "        sum==1\n",
    "        print(a,\"Is a Happy number\")    \n",
    "        return sum          \n",
    "    \n",
    "        \n",
    "    \n",
    "a=int(input(\"Enter the number: \"))\n",
    "happy(a)"
   ]
  },
  {
   "cell_type": "markdown",
   "id": "0729e770",
   "metadata": {},
   "source": [
    "# 4) Write a Python program to print all happy numbers between 1 and 100?\n"
   ]
  },
  {
   "cell_type": "code",
   "execution_count": 54,
   "id": "4ec3bada",
   "metadata": {},
   "outputs": [
    {
     "name": "stdout",
     "output_type": "stream",
     "text": [
      "1 Is a Happy number\n",
      "2 Is not a Happy number\n",
      "3 Is not a Happy number\n",
      "4 Is not a Happy number\n",
      "5 Is not a Happy number\n",
      "6 Is not a Happy number\n",
      "7 Is a Happy number\n",
      "8 Is not a Happy number\n",
      "9 Is not a Happy number\n",
      "10 Is a Happy number\n",
      "11 Is not a Happy number\n",
      "12 Is not a Happy number\n",
      "13 Is a Happy number\n",
      "14 Is not a Happy number\n",
      "15 Is not a Happy number\n",
      "16 Is not a Happy number\n",
      "17 Is not a Happy number\n",
      "18 Is not a Happy number\n",
      "19 Is a Happy number\n",
      "20 Is not a Happy number\n",
      "21 Is not a Happy number\n",
      "22 Is not a Happy number\n",
      "23 Is a Happy number\n",
      "24 Is not a Happy number\n",
      "25 Is not a Happy number\n",
      "26 Is not a Happy number\n",
      "27 Is not a Happy number\n",
      "28 Is a Happy number\n",
      "29 Is not a Happy number\n",
      "30 Is not a Happy number\n",
      "31 Is a Happy number\n",
      "32 Is a Happy number\n",
      "33 Is not a Happy number\n",
      "34 Is not a Happy number\n",
      "35 Is not a Happy number\n",
      "36 Is not a Happy number\n",
      "37 Is not a Happy number\n",
      "38 Is not a Happy number\n",
      "39 Is not a Happy number\n",
      "40 Is not a Happy number\n",
      "41 Is not a Happy number\n",
      "42 Is not a Happy number\n",
      "43 Is not a Happy number\n",
      "44 Is a Happy number\n",
      "45 Is not a Happy number\n",
      "46 Is not a Happy number\n",
      "47 Is not a Happy number\n",
      "48 Is not a Happy number\n",
      "49 Is a Happy number\n",
      "50 Is not a Happy number\n",
      "51 Is not a Happy number\n",
      "52 Is not a Happy number\n",
      "53 Is not a Happy number\n",
      "54 Is not a Happy number\n",
      "55 Is not a Happy number\n",
      "56 Is not a Happy number\n",
      "57 Is not a Happy number\n",
      "58 Is not a Happy number\n",
      "59 Is not a Happy number\n",
      "60 Is not a Happy number\n",
      "61 Is not a Happy number\n",
      "62 Is not a Happy number\n",
      "63 Is not a Happy number\n",
      "64 Is not a Happy number\n",
      "65 Is not a Happy number\n",
      "66 Is not a Happy number\n",
      "67 Is not a Happy number\n",
      "68 Is a Happy number\n",
      "69 Is not a Happy number\n",
      "70 Is a Happy number\n",
      "71 Is not a Happy number\n",
      "72 Is not a Happy number\n",
      "73 Is not a Happy number\n",
      "74 Is not a Happy number\n",
      "75 Is not a Happy number\n",
      "76 Is not a Happy number\n",
      "77 Is not a Happy number\n",
      "78 Is not a Happy number\n",
      "79 Is a Happy number\n",
      "80 Is not a Happy number\n",
      "81 Is not a Happy number\n",
      "82 Is a Happy number\n",
      "83 Is not a Happy number\n",
      "84 Is not a Happy number\n",
      "85 Is not a Happy number\n",
      "86 Is a Happy number\n",
      "87 Is not a Happy number\n",
      "88 Is not a Happy number\n",
      "89 Is not a Happy number\n",
      "90 Is not a Happy number\n",
      "91 Is a Happy number\n",
      "92 Is not a Happy number\n",
      "93 Is not a Happy number\n",
      "94 Is a Happy number\n",
      "95 Is not a Happy number\n",
      "96 Is not a Happy number\n",
      "97 Is a Happy number\n",
      "98 Is not a Happy number\n",
      "99 Is not a Happy number\n",
      "100 Is a Happy number\n"
     ]
    }
   ],
   "source": [
    "def happy(number):\n",
    "    \"\"\"Function to return happy numbers between 1 and 100\"\"\"\n",
    "    sum=0\n",
    "    \n",
    "    while number!=0:\n",
    "        n=number%10\n",
    "        sum=sum+n**2\n",
    "        number=number//10\n",
    "    \n",
    "    \n",
    "    if sum>=10:\n",
    "        happy(sum)\n",
    "        \n",
    "    elif sum>1 and sum<10:\n",
    "        print(a,\"Is not a Happy number\")  \n",
    "        \n",
    "    else:\n",
    "        sum==1\n",
    "        print(a,\"Is a Happy number\")    \n",
    "        return sum \n",
    "    \n",
    "for i in range(1,101): #input from 1 to 100\n",
    "    a=i\n",
    "    happy(i)\n",
    "\n"
   ]
  },
  {
   "cell_type": "markdown",
   "id": "e22ecf1e",
   "metadata": {},
   "source": [
    "# 5)Write a Python program to determine whether the given number is a Harshad Number?"
   ]
  },
  {
   "cell_type": "code",
   "execution_count": 12,
   "id": "64025328",
   "metadata": {},
   "outputs": [
    {
     "name": "stdout",
     "output_type": "stream",
     "text": [
      "Enter the number: 14\n",
      "14 is not a Harshad Number\n"
     ]
    }
   ],
   "source": [
    "def harshad(num):\n",
    "    \n",
    "    sum=0\n",
    "    \n",
    "    while num!=0:        \n",
    "        rem=num%10\n",
    "        num=num//10\n",
    "        sum=sum+rem\n",
    "    #return sum\n",
    "    if a%sum == 0:\n",
    "        print(a, \"is a Harshad Number\")\n",
    "    else:\n",
    "        print(a, \"is not a Harshad Number\")\n",
    "\n",
    "\n",
    "a=int(input(\"Enter the number: \"))\n",
    "harshad(a)\n",
    "        "
   ]
  },
  {
   "cell_type": "markdown",
   "id": "391fe74c",
   "metadata": {},
   "source": [
    "# 6) Write a Python program to print all pronic numbers between 1 and 100?"
   ]
  },
  {
   "cell_type": "code",
   "execution_count": 35,
   "id": "74c0d4a6",
   "metadata": {},
   "outputs": [
    {
     "name": "stdout",
     "output_type": "stream",
     "text": [
      "0\n",
      "2\n",
      "6\n",
      "12\n",
      "20\n",
      "30\n",
      "42\n",
      "56\n",
      "72\n",
      "90\n",
      "110\n",
      "132\n",
      "156\n",
      "182\n",
      "210\n",
      "240\n",
      "272\n",
      "306\n",
      "342\n",
      "380\n",
      "420\n",
      "462\n",
      "506\n",
      "552\n",
      "600\n",
      "650\n",
      "702\n",
      "756\n",
      "812\n",
      "870\n",
      "930\n",
      "992\n",
      "1056\n",
      "1122\n",
      "1190\n",
      "1260\n",
      "1332\n",
      "1406\n",
      "1482\n",
      "1560\n",
      "1640\n",
      "1722\n",
      "1806\n",
      "1892\n",
      "1980\n",
      "2070\n",
      "2162\n",
      "2256\n",
      "2352\n",
      "2450\n",
      "2550\n",
      "2652\n",
      "2756\n",
      "2862\n",
      "2970\n",
      "3080\n",
      "3192\n",
      "3306\n",
      "3422\n",
      "3540\n",
      "3660\n",
      "3782\n",
      "3906\n",
      "4032\n",
      "4160\n",
      "4290\n",
      "4422\n",
      "4556\n",
      "4692\n",
      "4830\n",
      "4970\n",
      "5112\n",
      "5256\n",
      "5402\n",
      "5550\n",
      "5700\n",
      "5852\n",
      "6006\n",
      "6162\n",
      "6320\n",
      "6480\n",
      "6642\n",
      "6806\n",
      "6972\n",
      "7140\n",
      "7310\n",
      "7482\n",
      "7656\n",
      "7832\n",
      "8010\n",
      "8190\n",
      "8372\n",
      "8556\n",
      "8742\n",
      "8930\n",
      "9120\n",
      "9312\n",
      "9506\n",
      "9702\n",
      "9900\n"
     ]
    }
   ],
   "source": [
    "def pronic(num): \n",
    "    \"\"\"Function to print all Pronic numbers\"\"\"\n",
    "    sum = (i*(i-1))#alogrithm\n",
    "    print(sum)        \n",
    "    \n",
    "for i in range(1,101): #range to input \n",
    "    pronic(i)\n",
    "\n",
    "\n",
    "  \n"
   ]
  },
  {
   "cell_type": "code",
   "execution_count": 63,
   "id": "0a2aa4bf",
   "metadata": {},
   "outputs": [
    {
     "data": {
      "text/plain": [
       "12"
      ]
     },
     "execution_count": 63,
     "metadata": {},
     "output_type": "execute_result"
    }
   ],
   "source": []
  },
  {
   "cell_type": "code",
   "execution_count": null,
   "id": "96832010",
   "metadata": {},
   "outputs": [],
   "source": []
  }
 ],
 "metadata": {
  "kernelspec": {
   "display_name": "Python 3 (ipykernel)",
   "language": "python",
   "name": "python3"
  },
  "language_info": {
   "codemirror_mode": {
    "name": "ipython",
    "version": 3
   },
   "file_extension": ".py",
   "mimetype": "text/x-python",
   "name": "python",
   "nbconvert_exporter": "python",
   "pygments_lexer": "ipython3",
   "version": "3.11.5"
  }
 },
 "nbformat": 4,
 "nbformat_minor": 5
}
