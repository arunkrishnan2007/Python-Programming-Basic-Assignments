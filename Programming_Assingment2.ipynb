{
 "cells": [
  {
   "cell_type": "markdown",
   "id": "bbef5b2f",
   "metadata": {},
   "source": [
    "# Write a Python program to convert kilometers to miles?\n"
   ]
  },
  {
   "cell_type": "markdown",
   "id": "24dca5cd",
   "metadata": {},
   "source": [
    "# def convert01(a):\n",
    "    \"\"\"Function to convert kilometers to miles\"\"\"\n",
    "    \n",
    "    miles = 0.621371*a #convert km to miles\n",
    "    return miles\n",
    "\n",
    "print(\"Enter the kilometer to convert it to miles: \")\n",
    "convert(5)"
   ]
  },
  {
   "cell_type": "markdown",
   "id": "597cb727",
   "metadata": {},
   "source": [
    "# Write a Python program to convert Celsius to Fahrenheit?\n"
   ]
  },
  {
   "cell_type": "code",
   "execution_count": 8,
   "id": "fed935f8",
   "metadata": {},
   "outputs": [
    {
     "name": "stdout",
     "output_type": "stream",
     "text": [
      "Enter the Celsius temperature to convert Fahrenheit\n"
     ]
    },
    {
     "data": {
      "text/plain": [
       "41.0"
      ]
     },
     "execution_count": 8,
     "metadata": {},
     "output_type": "execute_result"
    }
   ],
   "source": [
    "def convert02(b):\n",
    "    \"\"\"Function to convert Celsius to Fahrenheit\"\"\"\n",
    "    \n",
    "    Fahrenheit = (b*9/5)+32  #convert Celsius to Fahrenheit\n",
    "    return Fahrenheit\n",
    "\n",
    "print(\"Enter the Celsius temperature to convert Fahrenheit\")\n",
    "convert02(5)"
   ]
  },
  {
   "cell_type": "markdown",
   "id": "ab6a34ba",
   "metadata": {},
   "source": [
    "# Write a Python program to display calendar?"
   ]
  },
  {
   "cell_type": "code",
   "execution_count": 19,
   "id": "267f9232",
   "metadata": {},
   "outputs": [
    {
     "name": "stdout",
     "output_type": "stream",
     "text": [
      "Enter the year: 2024\n",
      "Enter the month (1-12):  1\n",
      "    January 2024\n",
      "Mo Tu We Th Fr Sa Su\n",
      " 1  2  3  4  5  6  7\n",
      " 8  9 10 11 12 13 14\n",
      "15 16 17 18 19 20 21\n",
      "22 23 24 25 26 27 28\n",
      "29 30 31\n",
      "\n"
     ]
    }
   ],
   "source": [
    "#importing calendar module\n",
    "import calendar\n",
    "\n",
    "year = int(input(\"Enter the year: \")) #user input for required year\n",
    "month = int(input(\"Enter the month (1-12):  \"))#user input for required month\n",
    "\n",
    "print(calendar.month(year,month))"
   ]
  },
  {
   "cell_type": "code",
   "execution_count": 27,
   "id": "99350394",
   "metadata": {},
   "outputs": [],
   "source": [
    "#using function\n",
    "#importing calendar module\n",
    "import calendar\n",
    "\n",
    "def cal(y,m): \n",
    "    \"\"\"Function to show calendar based on the user input of year and month\"\"\"\n",
    "    \n",
    "    print(calendar.month(y,m)) #displaying the output"
   ]
  },
  {
   "cell_type": "code",
   "execution_count": 30,
   "id": "f6881b18",
   "metadata": {},
   "outputs": [
    {
     "name": "stdout",
     "output_type": "stream",
     "text": [
      "   November 2023\n",
      "Mo Tu We Th Fr Sa Su\n",
      "       1  2  3  4  5\n",
      " 6  7  8  9 10 11 12\n",
      "13 14 15 16 17 18 19\n",
      "20 21 22 23 24 25 26\n",
      "27 28 29 30\n",
      "\n"
     ]
    }
   ],
   "source": [
    "cal(2023,11)"
   ]
  },
  {
   "cell_type": "markdown",
   "id": "19908935",
   "metadata": {},
   "source": [
    "# Write a Python program to solve quadratic equation?\n",
    "\n",
    "The standard form of a quadratic equation is: ax2 + bx + c = 0, where\n",
    "a, b and c are real numbers and\n",
    "a ≠ 0\n",
    "\n",
    "The solutions of this quadratic equation is \n",
    "\n",
    "(-b ± (b ** 2 - 4 * a * c) ** 0.5) / (2 * a)"
   ]
  },
  {
   "cell_type": "code",
   "execution_count": 45,
   "id": "caa5bdb7",
   "metadata": {},
   "outputs": [],
   "source": [
    "#importing math module\n",
    "import cmath\n",
    "\n",
    "def quadratic(a,b,c):\n",
    "    \"\"\"create a function quadratic to solve the equations\"\"\"\n",
    "    \n",
    "    # calculate the discriminant\n",
    "    d = (b ** 2) - (4 * a * c)\n",
    "    \n",
    "    # finding two solutions\n",
    "    sol1 = (-b-cmath.sqrt(d))/2*a\n",
    "    sol2 = (-b+cmath.sqrt(d))/2*a\n",
    "    \n",
    "    return('The solution are {0} and {1}'.format(sol1,sol2))"
   ]
  },
  {
   "cell_type": "code",
   "execution_count": 48,
   "id": "4415d603",
   "metadata": {},
   "outputs": [
    {
     "data": {
      "text/plain": [
       "'The solution are (-1-1.4142135623730951j) and (-1+1.4142135623730951j)'"
      ]
     },
     "execution_count": 48,
     "metadata": {},
     "output_type": "execute_result"
    }
   ],
   "source": [
    "quadratic(1,2,3)"
   ]
  },
  {
   "cell_type": "markdown",
   "id": "33006169",
   "metadata": {},
   "source": [
    "# Write a Python program to swap two variables without temp variable?\n"
   ]
  },
  {
   "cell_type": "code",
   "execution_count": 52,
   "id": "a7283ad1",
   "metadata": {},
   "outputs": [],
   "source": [
    "def swap(a,b):\n",
    "    \"\"\"Swap function to swap the values\"\"\"\n",
    "    \n",
    "    a,b=b,a #values interchanging\n",
    "    \n",
    "    return a,b #output "
   ]
  },
  {
   "cell_type": "code",
   "execution_count": 53,
   "id": "30e4d393",
   "metadata": {},
   "outputs": [
    {
     "data": {
      "text/plain": [
       "(2, 1)"
      ]
     },
     "execution_count": 53,
     "metadata": {},
     "output_type": "execute_result"
    }
   ],
   "source": [
    "swap(1,2)"
   ]
  },
  {
   "cell_type": "code",
   "execution_count": null,
   "id": "fd5f5764",
   "metadata": {},
   "outputs": [],
   "source": []
  }
 ],
 "metadata": {
  "kernelspec": {
   "display_name": "Python 3 (ipykernel)",
   "language": "python",
   "name": "python3"
  },
  "language_info": {
   "codemirror_mode": {
    "name": "ipython",
    "version": 3
   },
   "file_extension": ".py",
   "mimetype": "text/x-python",
   "name": "python",
   "nbconvert_exporter": "python",
   "pygments_lexer": "ipython3",
   "version": "3.11.5"
  }
 },
 "nbformat": 4,
 "nbformat_minor": 5
}
