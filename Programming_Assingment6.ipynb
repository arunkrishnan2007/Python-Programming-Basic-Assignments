{
 "cells": [
  {
   "cell_type": "markdown",
   "id": "021fe847",
   "metadata": {},
   "source": [
    "# Write a Python Program to Display Fibonacci Sequence Using Recursion?\n",
    "# Write a Python Program to Find Factorial of Number Using Recursion?\n",
    "# Write a Python Program to calculate your Body Mass Index?\n",
    "# Write a Python Program to calculate the natural logarithm of any number?\n",
    "# Write a Python Program for cube sum of first n natural numbers?"
   ]
  },
  {
   "cell_type": "markdown",
   "id": "9c7c153e",
   "metadata": {},
   "source": [
    "___________________________________________________________________________________________________________________________"
   ]
  },
  {
   "cell_type": "markdown",
   "id": "ca7f437e",
   "metadata": {},
   "source": [
    "# 1) Write a Python Program to Display Fibonacci Sequence Using Recursion?"
   ]
  },
  {
   "cell_type": "code",
   "execution_count": 15,
   "id": "ca8cbebb",
   "metadata": {},
   "outputs": [
    {
     "name": "stdout",
     "output_type": "stream",
     "text": [
      "Enter the limit of Fibonacci number: 20\n",
      "The Fibonacci series as below: \n",
      "0\n",
      "1\n",
      "1\n",
      "2\n",
      "3\n",
      "5\n",
      "8\n",
      "13\n",
      "21\n",
      "34\n",
      "55\n",
      "89\n",
      "144\n",
      "233\n",
      "377\n",
      "610\n",
      "987\n",
      "1597\n",
      "2584\n",
      "4181\n"
     ]
    }
   ],
   "source": [
    "def fibonacci_recursion(n):\n",
    "    if n<=1:\n",
    "        return n\n",
    "    else:\n",
    "        return (fibonacci_recursion(n-1)) + (fibonacci_recursion(n-2))\n",
    "    \n",
    "n=int(input(\"Enter the limit of Fibonacci number: \"))\n",
    "if n<=0:\n",
    "    print(\"Please provide a positve number\")\n",
    "else:\n",
    "    print(\"The Fibonacci series as below: \")\n",
    "        \n",
    "for i in range(n):\n",
    "    print(fibonacci_recursion(i))\n",
    "        "
   ]
  },
  {
   "cell_type": "code",
   "execution_count": 11,
   "id": "63588ac5",
   "metadata": {},
   "outputs": [
    {
     "data": {
      "text/plain": [
       "1"
      ]
     },
     "execution_count": 11,
     "metadata": {},
     "output_type": "execute_result"
    }
   ],
   "source": [
    "fibonacci_recursion(1)"
   ]
  },
  {
   "cell_type": "markdown",
   "id": "b6aba2bc",
   "metadata": {},
   "source": [
    "# 2) Write a Python Program to Find Factorial of Number Using Recursion?"
   ]
  },
  {
   "cell_type": "code",
   "execution_count": 39,
   "id": "d14fff30",
   "metadata": {},
   "outputs": [
    {
     "name": "stdout",
     "output_type": "stream",
     "text": [
      "Enter the number to find the Factorail: 5\n",
      "Factorial is as below:  120\n"
     ]
    }
   ],
   "source": [
    "def Factorial_recursion(m):\n",
    "    if m==1:\n",
    "        return m\n",
    "    else:\n",
    "        return m* (Factorial_recursion(m-1))\n",
    "    \n",
    "m=int(input(\"Enter the number to find the Factorail: \"))\n",
    "if m<0:\n",
    "    print(\"Invalid number, Enter a positive number\")\n",
    "elif m==0:\n",
    "    print(\"Factorial of 0 is 1 \")\n",
    "else:\n",
    "    print(\"Factorial is as below: \", Factorial_recursion(m) )\n"
   ]
  },
  {
   "cell_type": "markdown",
   "id": "e73befa7",
   "metadata": {},
   "source": [
    "# 3) Write a Python Program to calculate your Body Mass Index?"
   ]
  },
  {
   "cell_type": "code",
   "execution_count": 54,
   "id": "436ddb02",
   "metadata": {},
   "outputs": [
    {
     "name": "stdout",
     "output_type": "stream",
     "text": [
      "Enter your weight in kg: 80\n",
      "Enter your wight in meters: 1.77\n",
      "Overweight\n"
     ]
    },
    {
     "data": {
      "text/plain": [
       "('BMI', 25.53544639152223)"
      ]
     },
     "execution_count": 54,
     "metadata": {},
     "output_type": "execute_result"
    }
   ],
   "source": [
    "def bmi(weight,height):\n",
    "    \"\"\"Function to calculate the BMI\"\"\"\n",
    "    BMI= weight/(height*height)    \n",
    "    \n",
    "\n",
    "    if BMI <=18.5: #BMI Categories:\n",
    "        print(\"Underweight\")\n",
    "    elif BMI >= 18.5 and BMI <=24.9: #BMI Categories:\n",
    "        print(\"Normal weight\")\n",
    "    elif BMI>=25 and BMI<29.9: #BMI Categories:\n",
    "        print(\"Overweight\")\n",
    "    else:\n",
    "        print(\"Obesity\") #BMI Categories:\n",
    "        \n",
    "    return (\"BMI is: \"), BMI\n",
    "\n",
    "weight = float(input(\"Enter your weight in kg: \"))\n",
    "height = float(input(\"Enter your wight in meters: \"))\n",
    "bmi(weight,height)\n",
    "\n",
    "\n"
   ]
  },
  {
   "cell_type": "code",
   "execution_count": 45,
   "id": "18a3db34",
   "metadata": {},
   "outputs": [
    {
     "data": {
      "text/plain": [
       "30.41704789035619"
      ]
     },
     "execution_count": 45,
     "metadata": {},
     "output_type": "execute_result"
    }
   ],
   "source": [
    "bmi(73.5,1.55448)"
   ]
  },
  {
   "cell_type": "markdown",
   "id": "888ea6f6",
   "metadata": {},
   "source": [
    "# 4) Write a Python Program to calculate the natural logarithm of any number?"
   ]
  },
  {
   "cell_type": "code",
   "execution_count": 65,
   "id": "65efb468",
   "metadata": {},
   "outputs": [
    {
     "name": "stdout",
     "output_type": "stream",
     "text": [
      "Enter a number to find the natural logarithm: 98\n"
     ]
    },
    {
     "data": {
      "text/plain": [
       "4.584967478670572"
      ]
     },
     "execution_count": 65,
     "metadata": {},
     "output_type": "execute_result"
    }
   ],
   "source": [
    "import math #import math library\n",
    "def naturallog(x):\n",
    "    \"\"\"function to call natural log of any number\"\"\"\n",
    "    return math.log(x)\n",
    "\n",
    "x=float(input(\"Enter a number to find the natural logarithm: \"))\n",
    "naturallog(x)"
   ]
  },
  {
   "cell_type": "markdown",
   "id": "ec38ef94",
   "metadata": {},
   "source": [
    "# 5) Write a Python Program for cube sum of first n natural numbers?"
   ]
  },
  {
   "cell_type": "code",
   "execution_count": 79,
   "id": "3c2dcc1a",
   "metadata": {},
   "outputs": [
    {
     "name": "stdout",
     "output_type": "stream",
     "text": [
      "Enter the number to find the cube sum of first n natural numbers: 158777777\n"
     ]
    },
    {
     "data": {
      "text/plain": [
       "158890848060517989021257323581009"
      ]
     },
     "execution_count": 79,
     "metadata": {},
     "output_type": "execute_result"
    }
   ],
   "source": [
    "def cube(s):\n",
    "    \"\"\"function to define cube sum\"\"\"\n",
    "    cubesum=0\n",
    "    for i in range(1,s+1): \n",
    "        cubesum=cubesum+i**3\n",
    "    return cubesum\n",
    "\n",
    "s=int(input(\"Enter the number to find the cube sum of first n natural numbers: \"))\n",
    "cube(s)\n",
    "    "
   ]
  },
  {
   "cell_type": "code",
   "execution_count": 70,
   "id": "a1faecb9",
   "metadata": {},
   "outputs": [
    {
     "data": {
      "text/plain": [
       "9"
      ]
     },
     "execution_count": 70,
     "metadata": {},
     "output_type": "execute_result"
    }
   ],
   "source": []
  },
  {
   "cell_type": "code",
   "execution_count": null,
   "id": "d467b8df",
   "metadata": {},
   "outputs": [],
   "source": []
  }
 ],
 "metadata": {
  "kernelspec": {
   "display_name": "Python 3 (ipykernel)",
   "language": "python",
   "name": "python3"
  },
  "language_info": {
   "codemirror_mode": {
    "name": "ipython",
    "version": 3
   },
   "file_extension": ".py",
   "mimetype": "text/x-python",
   "name": "python",
   "nbconvert_exporter": "python",
   "pygments_lexer": "ipython3",
   "version": "3.11.5"
  }
 },
 "nbformat": 4,
 "nbformat_minor": 5
}
