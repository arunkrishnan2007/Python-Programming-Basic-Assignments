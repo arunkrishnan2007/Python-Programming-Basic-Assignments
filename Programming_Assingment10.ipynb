{
 "cells": [
  {
   "cell_type": "markdown",
   "id": "e0a50d6e",
   "metadata": {},
   "source": [
    "# 1) Write a Python program to find sum of elements in list?\n"
   ]
  },
  {
   "cell_type": "code",
   "execution_count": 17,
   "id": "e390d991",
   "metadata": {},
   "outputs": [
    {
     "name": "stdout",
     "output_type": "stream",
     "text": [
      "Enter the range of list: 5\n",
      "Enter the numbers inside the list to get sum: 10\n",
      "Enter the numbers inside the list to get sum: 20\n",
      "Enter the numbers inside the list to get sum: 30\n",
      "Enter the numbers inside the list to get sum: 40\n",
      "Enter the numbers inside the list to get sum: 50\n",
      "[10, 20, 30, 40, 50]\n"
     ]
    },
    {
     "data": {
      "text/plain": [
       "150"
      ]
     },
     "execution_count": 17,
     "metadata": {},
     "output_type": "execute_result"
    }
   ],
   "source": [
    "def sumofelements(l):\n",
    "    sum=0\n",
    "    for i in l:\n",
    "        sum=sum + i\n",
    "    \n",
    "    return sum\n",
    "\n",
    "\n",
    "l1=[]\n",
    "length=int(input(\"Enter the range of list: \"))\n",
    "for i in range(length):\n",
    "    l1.append(int(input(\"Enter the numbers inside the list to get sum: \")))\n",
    "print (l1)\n",
    "sumofelements(l1)"
   ]
  },
  {
   "cell_type": "markdown",
   "id": "6ef66b3c",
   "metadata": {},
   "source": [
    "# 2) Write a Python program to  Multiply all numbers in the list?"
   ]
  },
  {
   "cell_type": "code",
   "execution_count": 23,
   "id": "d323d1b5",
   "metadata": {},
   "outputs": [
    {
     "name": "stdout",
     "output_type": "stream",
     "text": [
      "Enter the range of list: 5\n",
      "Enter the numbers inside the list: 10\n",
      "Enter the numbers inside the list: 20\n",
      "Enter the numbers inside the list: 30\n",
      "Enter the numbers inside the list: 40\n",
      "Enter the numbers inside the list: 50\n",
      "The input list is :  [10, 20, 30, 40, 50]\n"
     ]
    },
    {
     "data": {
      "text/plain": [
       "12000000"
      ]
     },
     "execution_count": 23,
     "metadata": {},
     "output_type": "execute_result"
    }
   ],
   "source": [
    "def productofelements(l):\n",
    "    product=1\n",
    "    for i in l:\n",
    "        product=product * i\n",
    "    \n",
    "    return product\n",
    "\n",
    "\n",
    "l2=[]\n",
    "length=int(input(\"Enter the range of list: \"))\n",
    "for i in range(length):\n",
    "    l2.append(int(input(\"Enter the numbers inside the list: \")))\n",
    "print (\"The input list is : \",l2)\n",
    "productofelements(l2)"
   ]
  },
  {
   "cell_type": "markdown",
   "id": "a8a084b5",
   "metadata": {},
   "source": [
    "# 3) Write a Python program to find smallest number in a list?"
   ]
  },
  {
   "cell_type": "code",
   "execution_count": 33,
   "id": "b3b717ed",
   "metadata": {},
   "outputs": [
    {
     "name": "stdout",
     "output_type": "stream",
     "text": [
      "Enter the range of list: 5\n",
      "Enter the numbers inside the list to get sum: 33\n",
      "Enter the numbers inside the list to get sum: 22\n",
      "Enter the numbers inside the list to get sum: 99\n",
      "Enter the numbers inside the list to get sum: 11\n",
      "Enter the numbers inside the list to get sum: 55\n",
      "The input list is :  [33, 22, 99, 11, 55]\n",
      "After sorting:  [11, 22, 33, 55, 99]\n"
     ]
    },
    {
     "data": {
      "text/plain": [
       "11"
      ]
     },
     "execution_count": 33,
     "metadata": {},
     "output_type": "execute_result"
    }
   ],
   "source": [
    "def smallestofelements(l):\n",
    "    \n",
    "    \n",
    "    l.sort()\n",
    "        \n",
    "    print(\"After sorting: \", l)\n",
    "    return l[0]\n",
    "\n",
    "\n",
    "l3=[]\n",
    "length=int(input(\"Enter the range of list: \"))\n",
    "\n",
    "for i in range(length):\n",
    "    l3.append(int(input(\"Enter the numbers inside the list: \")))\n",
    "    \n",
    "print (\"The input list is : \", l3)\n",
    "smallestofelements(l3)"
   ]
  },
  {
   "cell_type": "markdown",
   "id": "af2c91b3",
   "metadata": {},
   "source": [
    "# 4) Write a Python program to find largest number in a list?"
   ]
  },
  {
   "cell_type": "code",
   "execution_count": 35,
   "id": "e2f4dc53",
   "metadata": {},
   "outputs": [
    {
     "name": "stdout",
     "output_type": "stream",
     "text": [
      "Enter the range of list: 6\n",
      "Enter the numbers inside the list to get sum: 3\n",
      "Enter the numbers inside the list to get sum: 22\n",
      "Enter the numbers inside the list to get sum: 44\n",
      "Enter the numbers inside the list to get sum: 99\n",
      "Enter the numbers inside the list to get sum: 02\n",
      "Enter the numbers inside the list to get sum: 47\n",
      "The input list is :  [3, 22, 44, 99, 2, 47]\n",
      "After sorting:  [99, 47, 44, 22, 3, 2]\n"
     ]
    },
    {
     "data": {
      "text/plain": [
       "99"
      ]
     },
     "execution_count": 35,
     "metadata": {},
     "output_type": "execute_result"
    }
   ],
   "source": [
    "def largestofelements(l):\n",
    "    \n",
    "    \n",
    "    l.sort(reverse=True)\n",
    "        \n",
    "    print(\"After sorting: \", l)\n",
    "    return l[0]\n",
    "\n",
    "\n",
    "l3=[]\n",
    "length=int(input(\"Enter the range of list: \"))\n",
    "\n",
    "for i in range(length):\n",
    "    l3.append(int(input(\"Enter the numbers inside the list: \")))\n",
    "    \n",
    "print (\"The input list is : \", l3)\n",
    "largestofelements(l3)"
   ]
  },
  {
   "cell_type": "markdown",
   "id": "a2a1c2cc",
   "metadata": {},
   "source": [
    "# 5) Write a Python program to find second largest number in a list?"
   ]
  },
  {
   "cell_type": "code",
   "execution_count": 37,
   "id": "8963c631",
   "metadata": {},
   "outputs": [
    {
     "name": "stdout",
     "output_type": "stream",
     "text": [
      "Enter the range of list: 5\n",
      "Enter the numbers inside the list to get sum: 22\n",
      "Enter the numbers inside the list to get sum: 99\n",
      "Enter the numbers inside the list to get sum: 44\n",
      "Enter the numbers inside the list to get sum: 55\n",
      "Enter the numbers inside the list to get sum: 888\n",
      "The input list is :  [22, 99, 44, 55, 888]\n",
      "After sorting:  [888, 99, 55, 44, 22]\n"
     ]
    },
    {
     "data": {
      "text/plain": [
       "99"
      ]
     },
     "execution_count": 37,
     "metadata": {},
     "output_type": "execute_result"
    }
   ],
   "source": [
    "def seclargestofelements(l):\n",
    "    \n",
    "    \n",
    "    l.sort(reverse=True)\n",
    "    print(\"After sorting: \", l)\n",
    "    return l[1]\n",
    "\n",
    "\n",
    "l3=[]\n",
    "length=int(input(\"Enter the range of list: \"))\n",
    "\n",
    "for i in range(length):\n",
    "    l3.append(int(input(\"Enter the numbers inside the list: \")))\n",
    "    \n",
    "print (\"The input list is : \", l3)\n",
    "seclargestofelements(l3)"
   ]
  },
  {
   "cell_type": "markdown",
   "id": "b4d880bf",
   "metadata": {},
   "source": [
    "# 6) Write a Python program to find N largest elements from a list?"
   ]
  },
  {
   "cell_type": "code",
   "execution_count": 3,
   "id": "001ae8ce",
   "metadata": {},
   "outputs": [
    {
     "name": "stdout",
     "output_type": "stream",
     "text": [
      "Enter the range of list: 6\n",
      "Enter the numbers inside the list: 55\n",
      "Enter the numbers inside the list: 774\n",
      "Enter the numbers inside the list: 2\n",
      "Enter the numbers inside the list: 3\n",
      "Enter the numbers inside the list: 8\n",
      "Enter the numbers inside the list: 4\n",
      "The input list is :  [55, 774, 2, 3, 8, 4]\n",
      "Enter the number (N) of largest elemets to find: 3\n",
      "After sorting:  [774, 55, 8, 4, 3, 2]\n"
     ]
    },
    {
     "data": {
      "text/plain": [
       "[774, 55, 8]"
      ]
     },
     "execution_count": 3,
     "metadata": {},
     "output_type": "execute_result"
    }
   ],
   "source": [
    "def nlargeele(l):\n",
    "    \n",
    "    \n",
    "    l.sort(reverse=True)\n",
    "    print(\"After sorting: \", l)\n",
    "    #for i in range(n):\n",
    "        #large.append(l[i])\n",
    "        \n",
    "def printlarge(l):\n",
    "    large=[]   \n",
    "    for i in range(n):\n",
    "        large.append(l[i])\n",
    "    return large\n",
    "    \n",
    "    \n",
    "\n",
    "        \n",
    "\n",
    "\n",
    "l6=[]\n",
    "length=int(input(\"Enter the range of list: \"))\n",
    "\n",
    "for i in range(length):\n",
    "    l6.append(int(input(\"Enter the numbers inside the list: \")))\n",
    "    \n",
    "print (\"The input list is : \", l6)\n",
    "n=int(input(\"Enter the number (N) of largest elemets to find: \"))\n",
    "if length>=n:\n",
    "    nlargeele(l6)\n",
    "else:\n",
    "    print(\"The lenght of list is conflicting with Nth number, Please try once again\")\n",
    "    \n",
    "printlarge(l6)"
   ]
  },
  {
   "cell_type": "markdown",
   "id": "4a39faf1",
   "metadata": {},
   "source": [
    "# 7) Write a Python program to print even numbers in a list?"
   ]
  },
  {
   "cell_type": "code",
   "execution_count": 6,
   "id": "a7edbba7",
   "metadata": {},
   "outputs": [
    {
     "name": "stdout",
     "output_type": "stream",
     "text": [
      "Enter the limit to check the even number30\n"
     ]
    },
    {
     "data": {
      "text/plain": [
       "[2, 4, 6, 8, 10, 12, 14, 16, 18, 20, 22, 24, 26, 28]"
      ]
     },
     "execution_count": 6,
     "metadata": {},
     "output_type": "execute_result"
    }
   ],
   "source": [
    "def evenfunc(n):\n",
    "    \"\"\"function to return even numerbs in a list\"\"\"\n",
    "    evenlist=[]\n",
    "    \n",
    "    for i in range(1,n):\n",
    "        if i%2==0:\n",
    "            evenlist.append(i)\n",
    "            \n",
    "    return evenlist\n",
    "            \n",
    "n=int(input(\"Enter the limit to check the even number\"))\n",
    "evenfunc(n)     \n"
   ]
  },
  {
   "cell_type": "markdown",
   "id": "2d643521",
   "metadata": {},
   "source": [
    "# 8) Write a Python program to print odd numbers in a List?"
   ]
  },
  {
   "cell_type": "code",
   "execution_count": 8,
   "id": "4b4f9bac",
   "metadata": {},
   "outputs": [
    {
     "name": "stdout",
     "output_type": "stream",
     "text": [
      "Enter the limit to check the even number20\n"
     ]
    },
    {
     "data": {
      "text/plain": [
       "[1, 3, 5, 7, 9, 11, 13, 15, 17, 19]"
      ]
     },
     "execution_count": 8,
     "metadata": {},
     "output_type": "execute_result"
    }
   ],
   "source": [
    "def offfunc(n):\n",
    "    \"\"\"function to return even numerbs in a list\"\"\"\n",
    "    oddlist=[]\n",
    "    \n",
    "    for i in range(1,n):\n",
    "        if i%2!=0:\n",
    "            oddlist.append(i)\n",
    "            \n",
    "    return oddlist\n",
    "            \n",
    "n=int(input(\"Enter the limit to check the even number\"))\n",
    "offfunc(n)     \n"
   ]
  },
  {
   "cell_type": "markdown",
   "id": "1b00bb95",
   "metadata": {},
   "source": [
    "# 9) Write a Python program to Remove empty List from List?"
   ]
  },
  {
   "cell_type": "code",
   "execution_count": 37,
   "id": "911a66cf",
   "metadata": {},
   "outputs": [
    {
     "name": "stdout",
     "output_type": "stream",
     "text": [
      "Not an empy list 12\n",
      "Empty list\n",
      "Not an empy list 122\n",
      "Not an empy list 30\n",
      "Not an empy list ll\n"
     ]
    }
   ],
   "source": [
    "def removempylist(l):\n",
    "    for i in  l:\n",
    "        if i!=[]:\n",
    "            print(\"Not an empy list\", i)\n",
    "        else:\n",
    "            print(\"Empty list\")\n",
    "        \n",
    "    \n",
    "l=[12,[],122,30,\"ll\"]\n",
    "removempylist(l)\n"
   ]
  },
  {
   "cell_type": "markdown",
   "id": "92e4a717",
   "metadata": {},
   "source": [
    "# 10) Write a Python program to Cloning or Copying a list?"
   ]
  },
  {
   "cell_type": "code",
   "execution_count": 48,
   "id": "729a7218",
   "metadata": {},
   "outputs": [
    {
     "data": {
      "text/plain": [
       "[12, 77, 'po', 98, 'qwe', 12, 88, 12]"
      ]
     },
     "execution_count": 48,
     "metadata": {},
     "output_type": "execute_result"
    }
   ],
   "source": [
    "def copyorclone(l1):\n",
    "    lcopy=l1[:]\n",
    "    \n",
    "    return lcopy\n",
    "    \n",
    "    \n",
    "l1=[12, 77, \"po\", 98, \"qwe\",12,88,12]\n",
    "copyorclone(l1)"
   ]
  },
  {
   "cell_type": "code",
   "execution_count": 49,
   "id": "00355935",
   "metadata": {},
   "outputs": [],
   "source": [
    "l2=copyorclone(l1)"
   ]
  },
  {
   "cell_type": "code",
   "execution_count": 50,
   "id": "f09e87aa",
   "metadata": {},
   "outputs": [
    {
     "data": {
      "text/plain": [
       "[12, 77, 'po', 98, 'qwe', 12, 88, 12]"
      ]
     },
     "execution_count": 50,
     "metadata": {},
     "output_type": "execute_result"
    }
   ],
   "source": [
    "l2"
   ]
  },
  {
   "cell_type": "markdown",
   "id": "c2cbf159",
   "metadata": {},
   "source": [
    "# 11) Write a Python program to Count occurrences of an element in a list?"
   ]
  },
  {
   "cell_type": "code",
   "execution_count": 13,
   "id": "45e9b862",
   "metadata": {},
   "outputs": [
    {
     "name": "stdout",
     "output_type": "stream",
     "text": [
      "12 has occured 4 times\n"
     ]
    }
   ],
   "source": [
    "def countelements(l3,x):\n",
    "    count=0\n",
    "    for i in l3:\n",
    "        if i==x:\n",
    "            count=count+1\n",
    "    return count\n",
    "\n",
    "l3=[12, 77, 'po', 98,12, 'qwe', 12, 88, 12]\n",
    "x=12\n",
    "print('{} has occured {} times'.format(x, countelements(l3,x)))\n",
    "\n",
    "    \n",
    "    \n",
    "    "
   ]
  },
  {
   "cell_type": "code",
   "execution_count": 12,
   "id": "758ca154",
   "metadata": {},
   "outputs": [
    {
     "name": "stdout",
     "output_type": "stream",
     "text": [
      "1 has occured 1 times\n",
      "122 has occured 3 times\n",
      "77 has occured 1 times\n",
      "po has occured 1 times\n",
      "98 has occured 1 times\n",
      "qwe has occured 1 times\n",
      "12 has occured 1 times\n",
      "88 has occured 2 times\n",
      "122 has occured 3 times\n",
      "122 has occured 3 times\n",
      "88 has occured 2 times\n"
     ]
    }
   ],
   "source": [
    "def countelements(l3,x):\n",
    "    count=0\n",
    "    for i in l3:\n",
    "        if i==x:\n",
    "            count=count+1\n",
    "    return count\n",
    "\n",
    "l3=[1,122, 77, 'po', 98, 'qwe', 12, 88, 122,122,88]\n",
    "for i in l3:\n",
    "    x=i\n",
    "    print('{} has occured {} times'.format(x, countelements(l3,x)))\n",
    "\n",
    "    \n",
    "    \n",
    "    "
   ]
  },
  {
   "cell_type": "code",
   "execution_count": null,
   "id": "d0ed86fb",
   "metadata": {},
   "outputs": [],
   "source": []
  }
 ],
 "metadata": {
  "kernelspec": {
   "display_name": "Python 3 (ipykernel)",
   "language": "python",
   "name": "python3"
  },
  "language_info": {
   "codemirror_mode": {
    "name": "ipython",
    "version": 3
   },
   "file_extension": ".py",
   "mimetype": "text/x-python",
   "name": "python",
   "nbconvert_exporter": "python",
   "pygments_lexer": "ipython3",
   "version": "3.11.5"
  }
 },
 "nbformat": 4,
 "nbformat_minor": 5
}
